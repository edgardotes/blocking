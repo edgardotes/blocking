{
 "cells": [
  {
   "cell_type": "markdown",
   "id": "0eefc2a3-3ef9-4097-801b-39c1222ff661",
   "metadata": {},
   "source": [
    "# Blocking identifiaction with the Reversal index"
   ]
  },
  {
   "cell_type": "code",
   "execution_count": null,
   "id": "500f734b-f95a-48f5-bf73-baeee61ef413",
   "metadata": {},
   "outputs": [],
   "source": [
    "import xarray as xr\n",
    "import datetime\n",
    "import matplotlib.pyplot as plt\n",
    "import cartopy.crs as ccrs\n",
    "import numpy as np\n",
    "from matplotlib import cm\n",
    "import sys, os\n",
    "sys.path.append(\"/home/b/b382006/tools/Blocking/brunner/blocking/\")\n",
    "from BlockingDetection import Blocking\n",
    "import dask\n",
    "\n",
    "#filters and units\n",
    "from scipy.ndimage import gaussian_filter\n",
    "import cartopy.util as cutil\n",
    "\n",
    "import cartopy.feature as cf\n",
    "import matplotlib.patches as mpatches\n",
    "import matplotlib.path as mpath\n",
    "import cartopy.feature as cfeature\n",
    "from mpl_toolkits.axes_grid1 import make_axes_locatable\n",
    "\n",
    "### many warnings problem | use size to dertimine dimensions\n",
    "import warnings\n",
    "warnings.filterwarnings(\"ignore\", category=FutureWarning)\n",
    "\n",
    "sys.path.append('/home/b/b382006/tools/util')\n",
    "from cpt_convert import loadCPT # Import the CPT convert function\n",
    "from matplotlib.colors import LinearSegmentedColormap # Linear interpolation for color maps"
   ]
  },
  {
   "cell_type": "markdown",
   "id": "b26223d1-c342-4b78-9555-cdaa6dd8b8de",
   "metadata": {
    "jp-MarkdownHeadingCollapsed": true
   },
   "source": [
    "### ERA5"
   ]
  },
  {
   "cell_type": "code",
   "execution_count": null,
   "id": "6de5e717-e1bd-4983-9ed6-93a92f53e2e8",
   "metadata": {},
   "outputs": [],
   "source": [
    "# copy only 1990 to 2019 to compare with IFS\n",
    "#! ln -s /work/bm1235/b382006/era5/z500/era5_regio_prl_199* /scratch/b/b382006/obs/era5/z500\n",
    "#! ln -s /work/bm1235/b382006/era5/z500/era5_regio_prl_200* /scratch/b/b382006/obs/era5/z500\n",
    "#! ln -s /work/bm1235/b382006/era5/z500/era5_regio_prl_201* /scratch/b/b382006/obs/era5/z500\n",
    "### temporary repository \n",
    "inpath='/scratch/b/b382006/obs/era5/z500/'\n",
    "outpath='/scratch/b/b382006/obs/era5/block/ABS_500_DAV' ## ABS_Z500, ABS_Z500_DAV\n"
   ]
  },
  {
   "cell_type": "code",
   "execution_count": null,
   "id": "f4d0ebf1-9e88-4313-b20b-f00c266cfd84",
   "metadata": {},
   "outputs": [],
   "source": [
    "xr_in=xr.open_mfdataset(inpath+'era5_*')\n",
    "# preprocessing\n",
    "### To daily to compare with nextGEMS\n",
    "daily_z = xr_in.resample(time='D').mean().compute()\n",
    "#xr_in.to_netcdf(inpath+'/era5_daily.nc')\n",
    "xr_in.close()\n",
    "del xr_in\n",
    "daily_z"
   ]
  },
  {
   "cell_type": "code",
   "execution_count": null,
   "id": "e68b312c-3f2d-47d3-a584-c2cc07500dc9",
   "metadata": {},
   "outputs": [],
   "source": [
    "### years\n",
    "yy0=int(daily_z['time'].time[0].dt.year)\n",
    "yyn=int(daily_z['time'].time[-1].dt.year)\n",
    "years=np.arange(yy0,yyn+1,1)\n",
    "print(years)"
   ]
  },
  {
   "cell_type": "code",
   "execution_count": null,
   "id": "e6f20910-3927-42f7-9464-bef43322fc81",
   "metadata": {},
   "outputs": [
    {
     "name": "stderr",
     "output_type": "stream",
     "text": [
      "2025-04-02 10:39:57,802 - root - INFO - Calculated GPH from GP\n",
      "2025-04-02 10:39:57,803 - root - INFO - Set time grid distance 1\n",
      "2025-04-02 10:39:57,806 - root - INFO - Set longitude grid distance 1.0\n",
      "2025-04-02 10:39:57,807 - root - WARNING - latitude grid not increasing. Inverse dimension!\n"
     ]
    },
    {
     "name": "stdout",
     "output_type": "stream",
     "text": [
      "/scratch/b/b382006/obs/era5/block/ABS_500_DAV/block_ABS-Z500_1990.nc\n"
     ]
    },
    {
     "name": "stderr",
     "output_type": "stream",
     "text": [
      "2025-04-02 10:39:57,948 - root - INFO - Set latitude grid distance 1.0\n",
      "2025-04-02 10:39:57,961 - root - INFO - Calculate gradients as GeopotentialHeightGradient...\n",
      "2025-04-02 10:39:58,576 - root - INFO - Calculating gradients... DONE\n",
      "2025-04-02 10:39:58,577 - root - INFO - Calculating IB as IB...\n",
      "2025-04-02 10:39:59,014 - root - INFO - Calculating IB... DONE\n",
      "2025-04-02 10:39:59,014 - root - INFO - Calculating extended IB as ExtendedIB...\n",
      "2025-04-02 10:40:00,619 - root - INFO - Calculating extended IB... DONE\n",
      "2025-04-02 10:40:00,620 - root - INFO - Calculating blocking as Blocking...\n",
      "2025-04-02 10:40:00,743 - root - INFO - Calculating time step... 0%\n",
      "2025-04-02 10:41:32,097 - root - INFO - Calculating time step... 10%\n",
      "2025-04-02 10:42:25,654 - root - INFO - Calculating time step... 20%\n",
      "2025-04-02 10:43:41,748 - root - INFO - Calculating time step... 30%\n",
      "2025-04-02 10:44:51,065 - root - INFO - Calculating time step... 40%\n",
      "2025-04-02 10:46:41,204 - root - INFO - Calculating time step... 50%\n",
      "2025-04-02 10:48:51,333 - root - INFO - Calculating time step... 60%\n",
      "2025-04-02 10:50:58,280 - root - INFO - Calculating time step... 70%\n",
      "2025-04-02 10:52:20,346 - root - INFO - Calculating time step... 80%\n",
      "2025-04-02 10:53:28,267 - root - INFO - Calculating time step... 90%\n",
      "2025-04-02 10:54:45,139 - root - INFO - Calculating blocking... DONE\n",
      "2025-04-02 10:54:45,473 - root - INFO - Saved /scratch/b/b382006/obs/era5/block/ABS_500_DAV/block_ABS-Z500_1990.nc\n"
     ]
    },
    {
     "name": "stdout",
     "output_type": "stream",
     "text": [
      "/scratch/b/b382006/obs/era5/block/ABS_500_DAV/block_ABS-Z500_1991.nc\n"
     ]
    },
    {
     "name": "stderr",
     "output_type": "stream",
     "text": [
      "2025-04-02 10:54:45,750 - root - INFO - Calculated GPH from GP\n",
      "2025-04-02 10:54:45,763 - root - INFO - Set time grid distance 1\n",
      "2025-04-02 10:54:45,777 - root - INFO - Set longitude grid distance 1.0\n",
      "2025-04-02 10:54:45,779 - root - WARNING - latitude grid not increasing. Inverse dimension!\n",
      "2025-04-02 10:54:45,910 - root - INFO - Set latitude grid distance 1.0\n",
      "2025-04-02 10:54:45,920 - root - INFO - Calculate gradients as GeopotentialHeightGradient...\n",
      "2025-04-02 10:54:46,538 - root - INFO - Calculating gradients... DONE\n",
      "2025-04-02 10:54:46,540 - root - INFO - Calculating IB as IB...\n",
      "2025-04-02 10:54:46,990 - root - INFO - Calculating IB... DONE\n",
      "2025-04-02 10:54:46,991 - root - INFO - Calculating extended IB as ExtendedIB...\n",
      "2025-04-02 10:54:48,715 - root - INFO - Calculating extended IB... DONE\n",
      "2025-04-02 10:54:48,716 - root - INFO - Calculating blocking as Blocking...\n",
      "2025-04-02 10:54:48,845 - root - INFO - Calculating time step... 0%\n",
      "2025-04-02 10:56:25,663 - root - INFO - Calculating time step... 10%\n",
      "2025-04-02 10:58:02,677 - root - INFO - Calculating time step... 20%\n",
      "2025-04-02 10:59:12,883 - root - INFO - Calculating time step... 30%\n",
      "2025-04-02 11:00:32,063 - root - INFO - Calculating time step... 40%\n",
      "2025-04-02 11:02:24,110 - root - INFO - Calculating time step... 50%\n",
      "2025-04-02 11:04:51,848 - root - INFO - Calculating time step... 60%\n",
      "2025-04-02 11:07:06,434 - root - INFO - Calculating time step... 70%\n",
      "2025-04-02 11:08:31,614 - root - INFO - Calculating time step... 80%\n",
      "2025-04-02 11:10:00,645 - root - INFO - Calculating time step... 90%\n",
      "2025-04-02 11:11:15,154 - root - INFO - Calculating blocking... DONE\n",
      "2025-04-02 11:11:15,609 - root - INFO - Saved /scratch/b/b382006/obs/era5/block/ABS_500_DAV/block_ABS-Z500_1991.nc\n"
     ]
    },
    {
     "name": "stdout",
     "output_type": "stream",
     "text": [
      "/scratch/b/b382006/obs/era5/block/ABS_500_DAV/block_ABS-Z500_1992.nc\n"
     ]
    },
    {
     "name": "stderr",
     "output_type": "stream",
     "text": [
      "2025-04-02 11:11:15,955 - root - INFO - Calculated GPH from GP\n",
      "2025-04-02 11:11:15,992 - root - INFO - Set time grid distance 1\n",
      "2025-04-02 11:11:16,033 - root - INFO - Set longitude grid distance 1.0\n",
      "2025-04-02 11:11:16,035 - root - WARNING - latitude grid not increasing. Inverse dimension!\n",
      "2025-04-02 11:11:16,169 - root - INFO - Set latitude grid distance 1.0\n",
      "2025-04-02 11:11:16,179 - root - INFO - Calculate gradients as GeopotentialHeightGradient...\n",
      "2025-04-02 11:11:16,791 - root - INFO - Calculating gradients... DONE\n",
      "2025-04-02 11:11:16,792 - root - INFO - Calculating IB as IB...\n",
      "2025-04-02 11:11:17,264 - root - INFO - Calculating IB... DONE\n",
      "2025-04-02 11:11:17,264 - root - INFO - Calculating extended IB as ExtendedIB...\n",
      "2025-04-02 11:11:18,960 - root - INFO - Calculating extended IB... DONE\n",
      "2025-04-02 11:11:18,961 - root - INFO - Calculating blocking as Blocking...\n",
      "2025-04-02 11:11:19,089 - root - INFO - Calculating time step... 0%\n",
      "2025-04-02 11:12:34,667 - root - INFO - Calculating time step... 10%\n",
      "2025-04-02 11:14:08,149 - root - INFO - Calculating time step... 20%\n",
      "2025-04-02 11:15:01,333 - root - INFO - Calculating time step... 30%\n",
      "2025-04-02 11:16:12,073 - root - INFO - Calculating time step... 40%\n",
      "2025-04-02 11:17:59,447 - root - INFO - Calculating time step... 50%\n",
      "2025-04-02 11:20:26,101 - root - INFO - Calculating time step... 60%\n",
      "2025-04-02 11:22:31,367 - root - INFO - Calculating time step... 70%\n",
      "2025-04-02 11:24:02,983 - root - INFO - Calculating time step... 80%\n",
      "2025-04-02 11:25:10,870 - root - INFO - Calculating time step... 90%\n",
      "2025-04-02 11:26:25,244 - root - INFO - Calculating blocking... DONE\n",
      "2025-04-02 11:26:25,666 - root - INFO - Saved /scratch/b/b382006/obs/era5/block/ABS_500_DAV/block_ABS-Z500_1992.nc\n"
     ]
    },
    {
     "name": "stdout",
     "output_type": "stream",
     "text": [
      "/scratch/b/b382006/obs/era5/block/ABS_500_DAV/block_ABS-Z500_1993.nc\n"
     ]
    },
    {
     "name": "stderr",
     "output_type": "stream",
     "text": [
      "2025-04-02 11:26:25,992 - root - INFO - Calculated GPH from GP\n",
      "2025-04-02 11:26:26,002 - root - INFO - Set time grid distance 1\n",
      "2025-04-02 11:26:26,020 - root - INFO - Set longitude grid distance 1.0\n",
      "2025-04-02 11:26:26,021 - root - WARNING - latitude grid not increasing. Inverse dimension!\n",
      "2025-04-02 11:26:26,155 - root - INFO - Set latitude grid distance 1.0\n",
      "2025-04-02 11:26:26,167 - root - INFO - Calculate gradients as GeopotentialHeightGradient...\n",
      "2025-04-02 11:26:26,788 - root - INFO - Calculating gradients... DONE\n",
      "2025-04-02 11:26:26,789 - root - INFO - Calculating IB as IB...\n",
      "2025-04-02 11:26:27,242 - root - INFO - Calculating IB... DONE\n",
      "2025-04-02 11:26:27,243 - root - INFO - Calculating extended IB as ExtendedIB...\n",
      "2025-04-02 11:26:28,930 - root - INFO - Calculating extended IB... DONE\n",
      "2025-04-02 11:26:28,931 - root - INFO - Calculating blocking as Blocking...\n",
      "2025-04-02 11:26:29,061 - root - INFO - Calculating time step... 0%\n",
      "2025-04-02 11:28:09,910 - root - INFO - Calculating time step... 10%\n",
      "2025-04-02 11:29:35,153 - root - INFO - Calculating time step... 20%\n",
      "2025-04-02 11:30:50,836 - root - INFO - Calculating time step... 30%\n",
      "2025-04-02 11:32:04,749 - root - INFO - Calculating time step... 40%\n",
      "2025-04-02 11:33:51,040 - root - INFO - Calculating time step... 50%\n",
      "2025-04-02 11:36:08,288 - root - INFO - Calculating time step... 60%\n",
      "2025-04-02 11:38:05,888 - root - INFO - Calculating time step... 70%\n",
      "2025-04-02 11:39:21,032 - root - INFO - Calculating time step... 80%\n",
      "2025-04-02 11:40:39,393 - root - INFO - Calculating time step... 90%\n",
      "2025-04-02 11:41:54,692 - root - INFO - Calculating blocking... DONE\n",
      "2025-04-02 11:41:55,044 - root - INFO - Saved /scratch/b/b382006/obs/era5/block/ABS_500_DAV/block_ABS-Z500_1993.nc\n"
     ]
    },
    {
     "name": "stdout",
     "output_type": "stream",
     "text": [
      "/scratch/b/b382006/obs/era5/block/ABS_500_DAV/block_ABS-Z500_1994.nc\n"
     ]
    },
    {
     "name": "stderr",
     "output_type": "stream",
     "text": [
      "2025-04-02 11:41:55,362 - root - INFO - Calculated GPH from GP\n",
      "2025-04-02 11:41:55,366 - root - INFO - Set time grid distance 1\n",
      "2025-04-02 11:41:55,370 - root - INFO - Set longitude grid distance 1.0\n",
      "2025-04-02 11:41:55,370 - root - WARNING - latitude grid not increasing. Inverse dimension!\n",
      "2025-04-02 11:41:55,505 - root - INFO - Set latitude grid distance 1.0\n",
      "2025-04-02 11:41:55,518 - root - INFO - Calculate gradients as GeopotentialHeightGradient...\n",
      "2025-04-02 11:41:56,119 - root - INFO - Calculating gradients... DONE\n",
      "2025-04-02 11:41:56,120 - root - INFO - Calculating IB as IB...\n",
      "2025-04-02 11:41:56,569 - root - INFO - Calculating IB... DONE\n",
      "2025-04-02 11:41:56,570 - root - INFO - Calculating extended IB as ExtendedIB...\n",
      "2025-04-02 11:41:58,284 - root - INFO - Calculating extended IB... DONE\n",
      "2025-04-02 11:41:58,285 - root - INFO - Calculating blocking as Blocking...\n",
      "2025-04-02 11:41:58,413 - root - INFO - Calculating time step... 0%\n",
      "2025-04-02 11:43:23,801 - root - INFO - Calculating time step... 10%\n",
      "2025-04-02 11:45:03,559 - root - INFO - Calculating time step... 20%\n",
      "2025-04-02 11:46:17,868 - root - INFO - Calculating time step... 30%\n",
      "2025-04-02 11:47:41,654 - root - INFO - Calculating time step... 40%\n",
      "2025-04-02 11:49:28,489 - root - INFO - Calculating time step... 50%\n",
      "2025-04-02 11:51:35,439 - root - INFO - Calculating time step... 60%\n",
      "2025-04-02 11:53:34,445 - root - INFO - Calculating time step... 70%\n",
      "2025-04-02 11:54:47,438 - root - INFO - Calculating time step... 80%\n",
      "2025-04-02 11:55:44,023 - root - INFO - Calculating time step... 90%\n",
      "2025-04-02 11:57:13,946 - root - INFO - Calculating blocking... DONE\n",
      "2025-04-02 11:57:14,207 - root - INFO - Saved /scratch/b/b382006/obs/era5/block/ABS_500_DAV/block_ABS-Z500_1994.nc\n"
     ]
    },
    {
     "name": "stdout",
     "output_type": "stream",
     "text": [
      "/scratch/b/b382006/obs/era5/block/ABS_500_DAV/block_ABS-Z500_1995.nc\n"
     ]
    },
    {
     "name": "stderr",
     "output_type": "stream",
     "text": [
      "2025-04-02 11:57:14,450 - root - INFO - Calculated GPH from GP\n",
      "2025-04-02 11:57:14,457 - root - INFO - Set time grid distance 1\n",
      "2025-04-02 11:57:14,484 - root - INFO - Set longitude grid distance 1.0\n",
      "2025-04-02 11:57:14,484 - root - WARNING - latitude grid not increasing. Inverse dimension!\n",
      "2025-04-02 11:57:14,630 - root - INFO - Set latitude grid distance 1.0\n",
      "2025-04-02 11:57:14,642 - root - INFO - Calculate gradients as GeopotentialHeightGradient...\n",
      "2025-04-02 11:57:15,300 - root - INFO - Calculating gradients... DONE\n",
      "2025-04-02 11:57:15,301 - root - INFO - Calculating IB as IB...\n",
      "2025-04-02 11:57:15,749 - root - INFO - Calculating IB... DONE\n",
      "2025-04-02 11:57:15,750 - root - INFO - Calculating extended IB as ExtendedIB...\n",
      "2025-04-02 11:57:17,466 - root - INFO - Calculating extended IB... DONE\n",
      "2025-04-02 11:57:17,467 - root - INFO - Calculating blocking as Blocking...\n",
      "2025-04-02 11:57:17,596 - root - INFO - Calculating time step... 0%\n",
      "2025-04-02 12:00:29,948 - root - INFO - Calculating time step... 20%\n",
      "2025-04-02 12:01:43,380 - root - INFO - Calculating time step... 30%\n",
      "2025-04-02 12:02:54,841 - root - INFO - Calculating time step... 40%\n",
      "2025-04-02 12:04:43,218 - root - INFO - Calculating time step... 50%\n",
      "2025-04-02 12:06:55,184 - root - INFO - Calculating time step... 60%\n",
      "2025-04-02 12:09:14,568 - root - INFO - Calculating time step... 70%\n",
      "2025-04-02 12:10:49,832 - root - INFO - Calculating time step... 80%\n",
      "2025-04-02 12:11:59,591 - root - INFO - Calculating time step... 90%\n",
      "2025-04-02 12:13:36,760 - root - INFO - Calculating blocking... DONE\n",
      "2025-04-02 12:13:37,125 - root - INFO - Saved /scratch/b/b382006/obs/era5/block/ABS_500_DAV/block_ABS-Z500_1995.nc\n"
     ]
    },
    {
     "name": "stdout",
     "output_type": "stream",
     "text": [
      "/scratch/b/b382006/obs/era5/block/ABS_500_DAV/block_ABS-Z500_1996.nc\n"
     ]
    },
    {
     "name": "stderr",
     "output_type": "stream",
     "text": [
      "2025-04-02 12:13:37,410 - root - INFO - Calculated GPH from GP\n",
      "2025-04-02 12:13:37,414 - root - INFO - Set time grid distance 1\n",
      "2025-04-02 12:13:37,418 - root - INFO - Set longitude grid distance 1.0\n",
      "2025-04-02 12:13:37,418 - root - WARNING - latitude grid not increasing. Inverse dimension!\n",
      "2025-04-02 12:13:37,554 - root - INFO - Set latitude grid distance 1.0\n",
      "2025-04-02 12:13:37,566 - root - INFO - Calculate gradients as GeopotentialHeightGradient...\n",
      "2025-04-02 12:13:38,171 - root - INFO - Calculating gradients... DONE\n",
      "2025-04-02 12:13:38,172 - root - INFO - Calculating IB as IB...\n",
      "2025-04-02 12:13:38,618 - root - INFO - Calculating IB... DONE\n",
      "2025-04-02 12:13:38,618 - root - INFO - Calculating extended IB as ExtendedIB...\n",
      "2025-04-02 12:13:40,254 - root - INFO - Calculating extended IB... DONE\n",
      "2025-04-02 12:13:40,255 - root - INFO - Calculating blocking as Blocking...\n",
      "2025-04-02 12:13:40,383 - root - INFO - Calculating time step... 0%\n",
      "2025-04-02 12:15:30,381 - root - INFO - Calculating time step... 10%\n",
      "2025-04-02 12:17:10,983 - root - INFO - Calculating time step... 20%\n",
      "2025-04-02 12:18:31,222 - root - INFO - Calculating time step... 30%\n",
      "2025-04-02 12:19:40,108 - root - INFO - Calculating time step... 40%\n",
      "2025-04-02 12:21:10,189 - root - INFO - Calculating time step... 50%\n",
      "2025-04-02 12:23:31,762 - root - INFO - Calculating time step... 60%\n",
      "2025-04-02 12:25:13,832 - root - INFO - Calculating time step... 70%\n",
      "2025-04-02 12:26:37,499 - root - INFO - Calculating time step... 80%\n",
      "2025-04-02 12:27:58,860 - root - INFO - Calculating time step... 90%\n",
      "2025-04-02 12:29:19,048 - root - INFO - Calculating blocking... DONE\n",
      "2025-04-02 12:29:19,343 - root - INFO - Saved /scratch/b/b382006/obs/era5/block/ABS_500_DAV/block_ABS-Z500_1996.nc\n"
     ]
    },
    {
     "name": "stdout",
     "output_type": "stream",
     "text": [
      "/scratch/b/b382006/obs/era5/block/ABS_500_DAV/block_ABS-Z500_1997.nc\n"
     ]
    },
    {
     "name": "stderr",
     "output_type": "stream",
     "text": [
      "2025-04-02 12:29:19,588 - root - INFO - Calculated GPH from GP\n",
      "2025-04-02 12:29:19,599 - root - INFO - Set time grid distance 1\n",
      "2025-04-02 12:29:19,624 - root - INFO - Set longitude grid distance 1.0\n",
      "2025-04-02 12:29:19,624 - root - WARNING - latitude grid not increasing. Inverse dimension!\n",
      "2025-04-02 12:29:19,760 - root - INFO - Set latitude grid distance 1.0\n",
      "2025-04-02 12:29:19,773 - root - INFO - Calculate gradients as GeopotentialHeightGradient...\n",
      "2025-04-02 12:29:20,366 - root - INFO - Calculating gradients... DONE\n",
      "2025-04-02 12:29:20,367 - root - INFO - Calculating IB as IB...\n",
      "2025-04-02 12:29:20,812 - root - INFO - Calculating IB... DONE\n",
      "2025-04-02 12:29:20,812 - root - INFO - Calculating extended IB as ExtendedIB...\n",
      "2025-04-02 12:29:22,607 - root - INFO - Calculating extended IB... DONE\n",
      "2025-04-02 12:29:22,608 - root - INFO - Calculating blocking as Blocking...\n",
      "2025-04-02 12:29:22,735 - root - INFO - Calculating time step... 0%\n",
      "2025-04-02 12:31:23,702 - root - INFO - Calculating time step... 10%\n",
      "2025-04-02 12:33:13,587 - root - INFO - Calculating time step... 20%\n",
      "2025-04-02 12:34:18,974 - root - INFO - Calculating time step... 30%\n",
      "2025-04-02 12:35:22,771 - root - INFO - Calculating time step... 40%\n",
      "2025-04-02 12:37:13,318 - root - INFO - Calculating time step... 50%\n",
      "2025-04-02 12:39:44,036 - root - INFO - Calculating time step... 60%\n",
      "2025-04-02 12:42:12,481 - root - INFO - Calculating time step... 70%\n",
      "2025-04-02 12:43:42,707 - root - INFO - Calculating time step... 80%\n",
      "2025-04-02 12:45:26,275 - root - INFO - Calculating time step... 90%\n",
      "2025-04-02 12:47:05,631 - root - INFO - Calculating blocking... DONE\n",
      "2025-04-02 12:47:06,024 - root - INFO - Saved /scratch/b/b382006/obs/era5/block/ABS_500_DAV/block_ABS-Z500_1997.nc\n"
     ]
    },
    {
     "name": "stdout",
     "output_type": "stream",
     "text": [
      "/scratch/b/b382006/obs/era5/block/ABS_500_DAV/block_ABS-Z500_1998.nc\n"
     ]
    },
    {
     "name": "stderr",
     "output_type": "stream",
     "text": [
      "2025-04-02 12:47:06,261 - root - INFO - Calculated GPH from GP\n",
      "2025-04-02 12:47:06,265 - root - INFO - Set time grid distance 1\n",
      "2025-04-02 12:47:06,268 - root - INFO - Set longitude grid distance 1.0\n",
      "2025-04-02 12:47:06,269 - root - WARNING - latitude grid not increasing. Inverse dimension!\n",
      "2025-04-02 12:47:06,405 - root - INFO - Set latitude grid distance 1.0\n",
      "2025-04-02 12:47:06,418 - root - INFO - Calculate gradients as GeopotentialHeightGradient...\n",
      "2025-04-02 12:47:07,011 - root - INFO - Calculating gradients... DONE\n",
      "2025-04-02 12:47:07,011 - root - INFO - Calculating IB as IB...\n",
      "2025-04-02 12:47:07,458 - root - INFO - Calculating IB... DONE\n",
      "2025-04-02 12:47:07,458 - root - INFO - Calculating extended IB as ExtendedIB...\n",
      "2025-04-02 12:47:09,283 - root - INFO - Calculating extended IB... DONE\n",
      "2025-04-02 12:47:09,284 - root - INFO - Calculating blocking as Blocking...\n",
      "2025-04-02 12:47:09,411 - root - INFO - Calculating time step... 0%\n",
      "2025-04-02 12:48:56,614 - root - INFO - Calculating time step... 10%\n",
      "2025-04-02 12:50:53,880 - root - INFO - Calculating time step... 20%\n",
      "2025-04-02 12:52:32,961 - root - INFO - Calculating time step... 30%\n",
      "2025-04-02 12:54:11,621 - root - INFO - Calculating time step... 40%\n",
      "2025-04-02 12:56:15,660 - root - INFO - Calculating time step... 50%\n",
      "2025-04-02 12:58:48,697 - root - INFO - Calculating time step... 60%\n",
      "2025-04-02 13:01:13,865 - root - INFO - Calculating time step... 70%\n",
      "2025-04-02 13:02:39,562 - root - INFO - Calculating time step... 80%\n",
      "2025-04-02 13:03:54,075 - root - INFO - Calculating time step... 90%\n",
      "2025-04-02 13:05:37,862 - root - INFO - Calculating blocking... DONE\n",
      "2025-04-02 13:05:38,186 - root - INFO - Saved /scratch/b/b382006/obs/era5/block/ABS_500_DAV/block_ABS-Z500_1998.nc\n"
     ]
    },
    {
     "name": "stdout",
     "output_type": "stream",
     "text": [
      "/scratch/b/b382006/obs/era5/block/ABS_500_DAV/block_ABS-Z500_1999.nc\n"
     ]
    },
    {
     "name": "stderr",
     "output_type": "stream",
     "text": [
      "2025-04-02 13:05:38,415 - root - INFO - Calculated GPH from GP\n",
      "2025-04-02 13:05:38,418 - root - INFO - Set time grid distance 1\n",
      "2025-04-02 13:05:38,421 - root - INFO - Set longitude grid distance 1.0\n",
      "2025-04-02 13:05:38,422 - root - WARNING - latitude grid not increasing. Inverse dimension!\n",
      "2025-04-02 13:05:38,557 - root - INFO - Set latitude grid distance 1.0\n",
      "2025-04-02 13:05:38,569 - root - INFO - Calculate gradients as GeopotentialHeightGradient...\n",
      "2025-04-02 13:05:39,158 - root - INFO - Calculating gradients... DONE\n",
      "2025-04-02 13:05:39,159 - root - INFO - Calculating IB as IB...\n",
      "2025-04-02 13:05:39,596 - root - INFO - Calculating IB... DONE\n",
      "2025-04-02 13:05:39,597 - root - INFO - Calculating extended IB as ExtendedIB...\n",
      "2025-04-02 13:05:41,286 - root - INFO - Calculating extended IB... DONE\n",
      "2025-04-02 13:05:41,286 - root - INFO - Calculating blocking as Blocking...\n",
      "2025-04-02 13:05:41,414 - root - INFO - Calculating time step... 0%\n",
      "2025-04-02 13:07:35,153 - root - INFO - Calculating time step... 10%\n",
      "2025-04-02 13:09:02,780 - root - INFO - Calculating time step... 20%\n",
      "2025-04-02 13:10:26,600 - root - INFO - Calculating time step... 30%\n",
      "2025-04-02 13:11:37,562 - root - INFO - Calculating time step... 40%\n",
      "2025-04-02 13:13:17,427 - root - INFO - Calculating time step... 50%\n",
      "2025-04-02 13:15:31,545 - root - INFO - Calculating time step... 60%\n",
      "2025-04-02 13:17:42,364 - root - INFO - Calculating time step... 70%\n",
      "2025-04-02 13:19:41,231 - root - INFO - Calculating time step... 80%\n",
      "2025-04-02 13:20:56,291 - root - INFO - Calculating time step... 90%\n",
      "2025-04-02 13:22:15,938 - root - INFO - Calculating blocking... DONE\n",
      "2025-04-02 13:22:16,256 - root - INFO - Saved /scratch/b/b382006/obs/era5/block/ABS_500_DAV/block_ABS-Z500_1999.nc\n"
     ]
    },
    {
     "name": "stdout",
     "output_type": "stream",
     "text": [
      "/scratch/b/b382006/obs/era5/block/ABS_500_DAV/block_ABS-Z500_2000.nc\n"
     ]
    },
    {
     "name": "stderr",
     "output_type": "stream",
     "text": [
      "2025-04-02 13:22:16,501 - root - INFO - Calculated GPH from GP\n",
      "2025-04-02 13:22:16,504 - root - INFO - Set time grid distance 1\n",
      "2025-04-02 13:22:16,507 - root - INFO - Set longitude grid distance 1.0\n",
      "2025-04-02 13:22:16,508 - root - WARNING - latitude grid not increasing. Inverse dimension!\n",
      "2025-04-02 13:22:16,651 - root - INFO - Set latitude grid distance 1.0\n",
      "2025-04-02 13:22:16,663 - root - INFO - Calculate gradients as GeopotentialHeightGradient...\n",
      "2025-04-02 13:22:17,515 - root - INFO - Calculating gradients... DONE\n",
      "2025-04-02 13:22:17,558 - root - INFO - Calculating IB as IB...\n",
      "2025-04-02 13:22:18,062 - root - INFO - Calculating IB... DONE\n",
      "2025-04-02 13:22:18,063 - root - INFO - Calculating extended IB as ExtendedIB...\n",
      "2025-04-02 13:22:19,729 - root - INFO - Calculating extended IB... DONE\n",
      "2025-04-02 13:22:19,730 - root - INFO - Calculating blocking as Blocking...\n",
      "2025-04-02 13:22:19,861 - root - INFO - Calculating time step... 0%\n",
      "2025-04-02 13:24:02,086 - root - INFO - Calculating time step... 10%\n",
      "2025-04-02 13:25:51,740 - root - INFO - Calculating time step... 20%\n",
      "2025-04-02 13:27:33,573 - root - INFO - Calculating time step... 30%\n",
      "2025-04-02 13:28:54,860 - root - INFO - Calculating time step... 40%\n",
      "2025-04-02 13:30:36,394 - root - INFO - Calculating time step... 50%\n",
      "2025-04-02 13:32:34,756 - root - INFO - Calculating time step... 60%\n",
      "2025-04-02 13:34:22,752 - root - INFO - Calculating time step... 70%\n",
      "2025-04-02 13:35:49,934 - root - INFO - Calculating time step... 80%\n",
      "2025-04-02 13:37:14,605 - root - INFO - Calculating time step... 90%\n",
      "2025-04-02 13:39:05,123 - root - INFO - Calculating blocking... DONE\n",
      "2025-04-02 13:39:05,414 - root - INFO - Saved /scratch/b/b382006/obs/era5/block/ABS_500_DAV/block_ABS-Z500_2000.nc\n"
     ]
    },
    {
     "name": "stdout",
     "output_type": "stream",
     "text": [
      "/scratch/b/b382006/obs/era5/block/ABS_500_DAV/block_ABS-Z500_2001.nc\n"
     ]
    },
    {
     "name": "stderr",
     "output_type": "stream",
     "text": [
      "2025-04-02 13:39:05,660 - root - INFO - Calculated GPH from GP\n",
      "2025-04-02 13:39:05,662 - root - INFO - Set time grid distance 1\n",
      "2025-04-02 13:39:05,665 - root - INFO - Set longitude grid distance 1.0\n",
      "2025-04-02 13:39:05,666 - root - WARNING - latitude grid not increasing. Inverse dimension!\n",
      "2025-04-02 13:39:05,823 - root - INFO - Set latitude grid distance 1.0\n",
      "2025-04-02 13:39:05,836 - root - INFO - Calculate gradients as GeopotentialHeightGradient...\n",
      "2025-04-02 13:39:06,447 - root - INFO - Calculating gradients... DONE\n",
      "2025-04-02 13:39:06,448 - root - INFO - Calculating IB as IB...\n",
      "2025-04-02 13:39:06,896 - root - INFO - Calculating IB... DONE\n",
      "2025-04-02 13:39:06,896 - root - INFO - Calculating extended IB as ExtendedIB...\n",
      "2025-04-02 13:39:08,562 - root - INFO - Calculating extended IB... DONE\n",
      "2025-04-02 13:39:08,563 - root - INFO - Calculating blocking as Blocking...\n",
      "2025-04-02 13:39:08,687 - root - INFO - Calculating time step... 0%\n",
      "2025-04-02 13:41:05,576 - root - INFO - Calculating time step... 10%\n",
      "2025-04-02 13:42:35,220 - root - INFO - Calculating time step... 20%\n",
      "2025-04-02 13:43:44,038 - root - INFO - Calculating time step... 30%\n",
      "2025-04-02 13:44:54,782 - root - INFO - Calculating time step... 40%\n",
      "2025-04-02 13:46:49,481 - root - INFO - Calculating time step... 50%\n",
      "2025-04-02 13:49:23,619 - root - INFO - Calculating time step... 60%\n",
      "2025-04-02 13:51:29,907 - root - INFO - Calculating time step... 70%\n",
      "2025-04-02 13:52:52,187 - root - INFO - Calculating time step... 80%\n",
      "2025-04-02 13:54:09,885 - root - INFO - Calculating time step... 90%\n",
      "2025-04-02 13:55:48,229 - root - INFO - Calculating blocking... DONE\n",
      "2025-04-02 13:55:48,513 - root - INFO - Saved /scratch/b/b382006/obs/era5/block/ABS_500_DAV/block_ABS-Z500_2001.nc\n"
     ]
    },
    {
     "name": "stdout",
     "output_type": "stream",
     "text": [
      "/scratch/b/b382006/obs/era5/block/ABS_500_DAV/block_ABS-Z500_2002.nc\n"
     ]
    },
    {
     "name": "stderr",
     "output_type": "stream",
     "text": [
      "2025-04-02 13:55:48,751 - root - INFO - Calculated GPH from GP\n",
      "2025-04-02 13:55:48,756 - root - INFO - Set time grid distance 1\n",
      "2025-04-02 13:55:48,759 - root - INFO - Set longitude grid distance 1.0\n",
      "2025-04-02 13:55:48,760 - root - WARNING - latitude grid not increasing. Inverse dimension!\n",
      "2025-04-02 13:55:48,898 - root - INFO - Set latitude grid distance 1.0\n",
      "2025-04-02 13:55:48,911 - root - INFO - Calculate gradients as GeopotentialHeightGradient...\n",
      "2025-04-02 13:55:49,539 - root - INFO - Calculating gradients... DONE\n",
      "2025-04-02 13:55:49,539 - root - INFO - Calculating IB as IB...\n",
      "2025-04-02 13:55:49,994 - root - INFO - Calculating IB... DONE\n",
      "2025-04-02 13:55:49,995 - root - INFO - Calculating extended IB as ExtendedIB...\n",
      "2025-04-02 13:55:51,960 - root - INFO - Calculating extended IB... DONE\n",
      "2025-04-02 13:55:51,974 - root - INFO - Calculating blocking as Blocking...\n",
      "2025-04-02 13:55:52,100 - root - INFO - Calculating time step... 0%\n",
      "2025-04-02 13:57:31,346 - root - INFO - Calculating time step... 10%\n",
      "2025-04-02 13:58:52,673 - root - INFO - Calculating time step... 20%\n",
      "2025-04-02 14:00:21,924 - root - INFO - Calculating time step... 30%\n",
      "2025-04-02 14:01:48,527 - root - INFO - Calculating time step... 40%\n",
      "2025-04-02 14:03:54,751 - root - INFO - Calculating time step... 50%\n",
      "2025-04-02 14:06:17,564 - root - INFO - Calculating time step... 60%\n",
      "2025-04-02 14:08:30,554 - root - INFO - Calculating time step... 70%\n",
      "2025-04-02 14:10:03,259 - root - INFO - Calculating time step... 80%\n",
      "2025-04-02 14:11:52,509 - root - INFO - Calculating time step... 90%\n",
      "2025-04-02 14:13:20,853 - root - INFO - Calculating blocking... DONE\n",
      "2025-04-02 14:13:21,139 - root - INFO - Saved /scratch/b/b382006/obs/era5/block/ABS_500_DAV/block_ABS-Z500_2002.nc\n"
     ]
    },
    {
     "name": "stdout",
     "output_type": "stream",
     "text": [
      "/scratch/b/b382006/obs/era5/block/ABS_500_DAV/block_ABS-Z500_2003.nc\n"
     ]
    },
    {
     "name": "stderr",
     "output_type": "stream",
     "text": [
      "2025-04-02 14:13:21,383 - root - INFO - Calculated GPH from GP\n",
      "2025-04-02 14:13:21,386 - root - INFO - Set time grid distance 1\n",
      "2025-04-02 14:13:21,389 - root - INFO - Set longitude grid distance 1.0\n",
      "2025-04-02 14:13:21,390 - root - WARNING - latitude grid not increasing. Inverse dimension!\n",
      "2025-04-02 14:13:21,536 - root - INFO - Set latitude grid distance 1.0\n",
      "2025-04-02 14:13:21,548 - root - INFO - Calculate gradients as GeopotentialHeightGradient...\n",
      "2025-04-02 14:13:22,200 - root - INFO - Calculating gradients... DONE\n",
      "2025-04-02 14:13:22,201 - root - INFO - Calculating IB as IB...\n",
      "2025-04-02 14:13:22,658 - root - INFO - Calculating IB... DONE\n",
      "2025-04-02 14:13:22,658 - root - INFO - Calculating extended IB as ExtendedIB...\n",
      "2025-04-02 14:13:24,338 - root - INFO - Calculating extended IB... DONE\n",
      "2025-04-02 14:13:24,338 - root - INFO - Calculating blocking as Blocking...\n",
      "2025-04-02 14:13:24,464 - root - INFO - Calculating time step... 0%\n",
      "2025-04-02 14:15:26,734 - root - INFO - Calculating time step... 10%\n",
      "2025-04-02 14:17:10,315 - root - INFO - Calculating time step... 20%\n",
      "2025-04-02 14:18:29,976 - root - INFO - Calculating time step... 30%\n",
      "2025-04-02 14:19:47,741 - root - INFO - Calculating time step... 40%\n",
      "2025-04-02 14:21:21,469 - root - INFO - Calculating time step... 50%\n",
      "2025-04-02 14:24:01,594 - root - INFO - Calculating time step... 60%\n",
      "2025-04-02 14:26:37,274 - root - INFO - Calculating time step... 70%\n",
      "2025-04-02 14:28:10,156 - root - INFO - Calculating time step... 80%\n",
      "2025-04-02 14:29:25,789 - root - INFO - Calculating time step... 90%\n",
      "2025-04-02 14:30:42,763 - root - INFO - Calculating blocking... DONE\n",
      "2025-04-02 14:30:43,111 - root - INFO - Saved /scratch/b/b382006/obs/era5/block/ABS_500_DAV/block_ABS-Z500_2003.nc\n"
     ]
    },
    {
     "name": "stdout",
     "output_type": "stream",
     "text": [
      "/scratch/b/b382006/obs/era5/block/ABS_500_DAV/block_ABS-Z500_2004.nc\n"
     ]
    },
    {
     "name": "stderr",
     "output_type": "stream",
     "text": [
      "2025-04-02 14:30:43,437 - root - INFO - Calculated GPH from GP\n",
      "2025-04-02 14:30:43,455 - root - INFO - Set time grid distance 1\n",
      "2025-04-02 14:30:43,490 - root - INFO - Set longitude grid distance 1.0\n",
      "2025-04-02 14:30:43,494 - root - WARNING - latitude grid not increasing. Inverse dimension!\n",
      "2025-04-02 14:30:43,646 - root - INFO - Set latitude grid distance 1.0\n",
      "2025-04-02 14:30:43,656 - root - INFO - Calculate gradients as GeopotentialHeightGradient...\n",
      "2025-04-02 14:30:44,254 - root - INFO - Calculating gradients... DONE\n",
      "2025-04-02 14:30:44,254 - root - INFO - Calculating IB as IB...\n",
      "2025-04-02 14:30:44,710 - root - INFO - Calculating IB... DONE\n",
      "2025-04-02 14:30:44,710 - root - INFO - Calculating extended IB as ExtendedIB...\n",
      "2025-04-02 14:30:46,305 - root - INFO - Calculating extended IB... DONE\n",
      "2025-04-02 14:30:46,305 - root - INFO - Calculating blocking as Blocking...\n",
      "2025-04-02 14:30:46,433 - root - INFO - Calculating time step... 0%\n",
      "2025-04-02 14:32:07,218 - root - INFO - Calculating time step... 10%\n",
      "2025-04-02 14:33:52,164 - root - INFO - Calculating time step... 20%\n",
      "2025-04-02 14:35:15,921 - root - INFO - Calculating time step... 30%\n",
      "2025-04-02 14:36:32,851 - root - INFO - Calculating time step... 40%\n",
      "2025-04-02 14:38:30,787 - root - INFO - Calculating time step... 50%\n",
      "2025-04-02 14:40:40,062 - root - INFO - Calculating time step... 60%\n",
      "2025-04-02 14:43:06,111 - root - INFO - Calculating time step... 70%\n",
      "2025-04-02 14:44:12,277 - root - INFO - Calculating time step... 80%\n",
      "2025-04-02 14:45:30,664 - root - INFO - Calculating time step... 90%\n",
      "2025-04-02 14:46:48,672 - root - INFO - Calculating blocking... DONE\n",
      "2025-04-02 14:46:48,944 - root - INFO - Saved /scratch/b/b382006/obs/era5/block/ABS_500_DAV/block_ABS-Z500_2004.nc\n"
     ]
    },
    {
     "name": "stdout",
     "output_type": "stream",
     "text": [
      "/scratch/b/b382006/obs/era5/block/ABS_500_DAV/block_ABS-Z500_2005.nc\n"
     ]
    },
    {
     "name": "stderr",
     "output_type": "stream",
     "text": [
      "2025-04-02 14:46:49,172 - root - INFO - Calculated GPH from GP\n",
      "2025-04-02 14:46:49,175 - root - INFO - Set time grid distance 1\n",
      "2025-04-02 14:46:49,180 - root - INFO - Set longitude grid distance 1.0\n",
      "2025-04-02 14:46:49,181 - root - WARNING - latitude grid not increasing. Inverse dimension!\n",
      "2025-04-02 14:46:49,312 - root - INFO - Set latitude grid distance 1.0\n",
      "2025-04-02 14:46:49,322 - root - INFO - Calculate gradients as GeopotentialHeightGradient...\n",
      "2025-04-02 14:46:49,907 - root - INFO - Calculating gradients... DONE\n",
      "2025-04-02 14:46:49,908 - root - INFO - Calculating IB as IB...\n",
      "2025-04-02 14:46:50,344 - root - INFO - Calculating IB... DONE\n",
      "2025-04-02 14:46:50,345 - root - INFO - Calculating extended IB as ExtendedIB...\n",
      "2025-04-02 14:46:51,997 - root - INFO - Calculating extended IB... DONE\n",
      "2025-04-02 14:46:51,997 - root - INFO - Calculating blocking as Blocking...\n",
      "2025-04-02 14:46:52,124 - root - INFO - Calculating time step... 0%\n",
      "2025-04-02 14:48:44,386 - root - INFO - Calculating time step... 10%\n",
      "2025-04-02 14:50:17,139 - root - INFO - Calculating time step... 20%\n",
      "2025-04-02 14:51:40,913 - root - INFO - Calculating time step... 30%\n",
      "2025-04-02 14:52:50,264 - root - INFO - Calculating time step... 40%\n",
      "2025-04-02 14:54:25,403 - root - INFO - Calculating time step... 50%\n",
      "2025-04-02 14:56:53,766 - root - INFO - Calculating time step... 60%\n",
      "2025-04-02 14:59:03,306 - root - INFO - Calculating time step... 70%\n",
      "2025-04-02 15:00:47,913 - root - INFO - Calculating time step... 80%\n",
      "2025-04-02 15:02:20,855 - root - INFO - Calculating time step... 90%\n",
      "2025-04-02 15:04:13,192 - root - INFO - Calculating blocking... DONE\n",
      "2025-04-02 15:04:13,458 - root - INFO - Saved /scratch/b/b382006/obs/era5/block/ABS_500_DAV/block_ABS-Z500_2005.nc\n"
     ]
    },
    {
     "name": "stdout",
     "output_type": "stream",
     "text": [
      "/scratch/b/b382006/obs/era5/block/ABS_500_DAV/block_ABS-Z500_2006.nc\n"
     ]
    },
    {
     "name": "stderr",
     "output_type": "stream",
     "text": [
      "2025-04-02 15:04:13,702 - root - INFO - Calculated GPH from GP\n",
      "2025-04-02 15:04:13,719 - root - INFO - Set time grid distance 1\n",
      "2025-04-02 15:04:13,737 - root - INFO - Set longitude grid distance 1.0\n",
      "2025-04-02 15:04:13,740 - root - WARNING - latitude grid not increasing. Inverse dimension!\n",
      "2025-04-02 15:04:13,874 - root - INFO - Set latitude grid distance 1.0\n",
      "2025-04-02 15:04:13,885 - root - INFO - Calculate gradients as GeopotentialHeightGradient...\n",
      "2025-04-02 15:04:14,477 - root - INFO - Calculating gradients... DONE\n",
      "2025-04-02 15:04:14,478 - root - INFO - Calculating IB as IB...\n",
      "2025-04-02 15:04:14,985 - root - INFO - Calculating IB... DONE\n",
      "2025-04-02 15:04:14,986 - root - INFO - Calculating extended IB as ExtendedIB...\n",
      "2025-04-02 15:04:16,588 - root - INFO - Calculating extended IB... DONE\n",
      "2025-04-02 15:04:16,589 - root - INFO - Calculating blocking as Blocking...\n",
      "2025-04-02 15:04:16,766 - root - INFO - Calculating time step... 0%\n",
      "2025-04-02 15:06:21,702 - root - INFO - Calculating time step... 10%\n",
      "2025-04-02 15:08:01,115 - root - INFO - Calculating time step... 20%\n",
      "2025-04-02 15:09:03,601 - root - INFO - Calculating time step... 30%\n",
      "2025-04-02 15:10:09,103 - root - INFO - Calculating time step... 40%\n",
      "2025-04-02 15:12:00,169 - root - INFO - Calculating time step... 50%\n",
      "2025-04-02 15:14:38,936 - root - INFO - Calculating time step... 60%\n",
      "2025-04-02 15:16:37,350 - root - INFO - Calculating time step... 70%\n",
      "2025-04-02 15:18:01,944 - root - INFO - Calculating time step... 80%\n",
      "2025-04-02 15:19:22,412 - root - INFO - Calculating time step... 90%\n",
      "2025-04-02 15:20:57,404 - root - INFO - Calculating blocking... DONE\n",
      "2025-04-02 15:20:57,726 - root - INFO - Saved /scratch/b/b382006/obs/era5/block/ABS_500_DAV/block_ABS-Z500_2006.nc\n"
     ]
    },
    {
     "name": "stdout",
     "output_type": "stream",
     "text": [
      "/scratch/b/b382006/obs/era5/block/ABS_500_DAV/block_ABS-Z500_2007.nc\n"
     ]
    },
    {
     "name": "stderr",
     "output_type": "stream",
     "text": [
      "2025-04-02 15:20:57,976 - root - INFO - Calculated GPH from GP\n",
      "2025-04-02 15:20:57,984 - root - INFO - Set time grid distance 1\n",
      "2025-04-02 15:20:57,997 - root - INFO - Set longitude grid distance 1.0\n",
      "2025-04-02 15:20:57,998 - root - WARNING - latitude grid not increasing. Inverse dimension!\n",
      "2025-04-02 15:20:58,135 - root - INFO - Set latitude grid distance 1.0\n",
      "2025-04-02 15:20:58,148 - root - INFO - Calculate gradients as GeopotentialHeightGradient...\n",
      "2025-04-02 15:20:58,794 - root - INFO - Calculating gradients... DONE\n",
      "2025-04-02 15:20:59,068 - root - INFO - Calculating IB as IB...\n",
      "2025-04-02 15:21:00,177 - root - INFO - Calculating IB... DONE\n",
      "2025-04-02 15:21:00,185 - root - INFO - Calculating extended IB as ExtendedIB...\n",
      "2025-04-02 15:21:01,898 - root - INFO - Calculating extended IB... DONE\n",
      "2025-04-02 15:21:01,899 - root - INFO - Calculating blocking as Blocking...\n",
      "2025-04-02 15:21:02,039 - root - INFO - Calculating time step... 0%\n",
      "2025-04-02 15:22:44,749 - root - INFO - Calculating time step... 10%\n",
      "2025-04-02 15:24:39,910 - root - INFO - Calculating time step... 20%\n",
      "2025-04-02 15:26:14,812 - root - INFO - Calculating time step... 30%\n",
      "2025-04-02 15:27:10,225 - root - INFO - Calculating time step... 40%\n",
      "2025-04-02 15:29:18,585 - root - INFO - Calculating time step... 50%\n",
      "2025-04-02 15:31:41,127 - root - INFO - Calculating time step... 60%\n",
      "2025-04-02 15:33:30,684 - root - INFO - Calculating time step... 70%\n",
      "2025-04-02 15:34:45,718 - root - INFO - Calculating time step... 80%\n"
     ]
    }
   ],
   "source": [
    "for year in years:\n",
    "    ofile= \"block_ABS-Z500_\"+str(year)+\".nc\"\n",
    "\n",
    "    if not os.path.exists(outpath):\n",
    "        os.makedirs(outpath)\n",
    "    OUTPATH=outpath+'/'+ofile\n",
    "\n",
    "    print(OUTPATH)\n",
    "\n",
    "    data=daily_z.sel(time=daily_z.time.dt.year.isin([year]))\n",
    "\n",
    "#    print(data)\n",
    "    ### intitate\n",
    "    blk = Blocking()\n",
    "\n",
    "    blk.import_xarray(data)\n",
    "\n",
    "    blk.calculate_gph_from_gp() # calculate geopotential height\n",
    "\n",
    "    blk.set_up(time_name='time', longitude_name='longitude', latitude_name='latitude')\n",
    "\n",
    "    ### Davini\n",
    "    blk.calculate_gradients(delta_degree=15)\n",
    "\n",
    "    blk.calculate_ib(\n",
    "    gradient_equator_below=0,\n",
    "    gradient_pole_below=-10,\n",
    "    gradient_equator2_above=None)\n",
    "\n",
    "    blk.calculate_eib(min_extent_degree=15)\n",
    "\n",
    "    blk.calculate_blocking(\n",
    "    stationary_pm_days=2,\n",
    "    longitude_pm_degree=8,\n",
    "    latitude_pm_degree=2)\n",
    "\n",
    "# save to disk\n",
    "    blk\n",
    "    blk.save(OUTPATH, 'Blocking')\n",
    "\n",
    "    data.close()"
   ]
  },
  {
   "cell_type": "code",
   "execution_count": null,
   "id": "b113e321-1d35-47ff-a472-d564a5be04ba",
   "metadata": {},
   "outputs": [],
   "source": [
    "### full data"
   ]
  },
  {
   "cell_type": "code",
   "execution_count": null,
   "id": "b46c1194-c740-4ead-9b50-e36748fa5e90",
   "metadata": {},
   "outputs": [
    {
     "name": "stderr",
     "output_type": "stream",
     "text": [
      "2025-04-02 10:15:56,946 - root - INFO - Set time grid distance 1\n",
      "2025-04-02 10:15:56,949 - root - INFO - Set longitude grid distance 1.0\n",
      "2025-04-02 10:15:56,950 - root - WARNING - latitude grid not increasing. Inverse dimension!\n",
      "2025-04-02 10:16:04,755 - root - INFO - Set latitude grid distance 1.0\n",
      "2025-04-02 10:16:05,189 - root - INFO - Calculate gradients as GeopotentialHeightGradient...\n",
      "2025-04-02 10:16:28,600 - root - INFO - Calculating gradients... DONE\n",
      "2025-04-02 10:16:28,699 - root - INFO - Calculating IB as IB...\n"
     ]
    }
   ],
   "source": [
    "\n",
    "### intitate\n",
    "blk = Blocking()\n",
    "\n",
    "blk.import_xarray(xr_in)\n",
    "\n",
    "###era5\n",
    "blk.calculate_gph_from_gp() # calculate geopotential height\n",
    "\n",
    "blk.set_up(time_name='time', longitude_name='longitude', latitude_name='latitude')\n",
    "\n",
    "'''\n",
    "### Brunner\n",
    "blk.calculate_gradients(delta_degree=15)\n",
    "\n",
    "blk.calculate_ib(\n",
    "    gradient_equator_below=0,\n",
    "    gradient_pole_below=-10,\n",
    "    gradient_equator2_above=5)\n",
    "\n",
    "# \n",
    "blk.calculate_eib(min_extent_degree=15)\n",
    "# \n",
    "blk.calculate_blocking(\n",
    "    stationary_pm_days=2,\n",
    "    longitude_pm_degree=8,\n",
    "    latitude_pm_degree=2)\n",
    "\n",
    "OUTPATH=outpath+'ABS_Z500/IB.nc'\n",
    "OUTPATH2=outpath+'ABS_Z500/ExtendB.nc'\n",
    "OUTPATH3=outpath+'ABS_Z500/BLOCKS'+subfix+'.nc'\n",
    "\n",
    "####\n",
    "'''\n",
    "\n",
    "### Davini\n",
    "blk.calculate_gradients(delta_degree=15)\n",
    "\n",
    "blk.calculate_ib(\n",
    "    gradient_equator_below=0,\n",
    "    gradient_pole_below=-10,\n",
    "    gradient_equator2_above=None)\n",
    "\n",
    "blk.calculate_eib(min_extent_degree=15)\n",
    "\n",
    "blk.calculate_blocking(\n",
    "    stationary_pm_days=2,\n",
    "    longitude_pm_degree=8,\n",
    "    latitude_pm_degree=2)\n",
    "\n",
    "OUTPATH=outpath+'/IB.nc'\n",
    "OUTPATH2=outpath+'/ExtendB.nc'\n",
    "OUTPATH3=outpath+'/BLOCKS'+subfix+'.nc'\n",
    "\n",
    "###\n",
    "\n",
    "### years\n",
    "yy0=int(xr_in['time'].time[0].dt.year)\n",
    "yyn=int(xr_in['time'].time[-1].dt.year)\n",
    "\n",
    "subfix='-ERA5-'+str(yy0)+'-'+str(yyn)+''\n",
    "\n",
    "print(yy0,yyn,OUTPATH3)\n",
    "\n",
    "# save to disk \n",
    "blk.save(OUTPATH, 'IB')\n",
    "blk.save(OUTPATH2, 'ExtendedIB')\n",
    "blk.save(OUTPATH3, 'Blocking')\n"
   ]
  },
  {
   "cell_type": "markdown",
   "id": "e8723c55-1c56-4bdd-b412-307b77cf9330",
   "metadata": {
    "jp-MarkdownHeadingCollapsed": true
   },
   "source": [
    "### IFS simulations"
   ]
  },
  {
   "cell_type": "code",
   "execution_count": 2,
   "id": "a0cc45dd-7076-413a-84a3-d443183f5a9a",
   "metadata": {},
   "outputs": [],
   "source": [
    "### blocking method based on the original Code of Lukas Brunner\n",
    "## nextGEMS\n",
    "#id_exp='IFS_9-FESOM_5-production-hist' #IFS_9-FESOM_5-production, IFS_9-FESOM_5-production-hist\n",
    "#inpath='/work/bm1235/b382006/nextgems/prefinal/'+id_exp+'/' \n",
    "#outpath='/scratch/b/b382006/nextgems/prefinal/'+id_exp+'/' \n",
    "#xr_in=xr.open_mfdataset(inpath+'/z/6H/z500_'+id_exp+'_*')\n",
    "\n",
    "## IFS AMIP\n",
    "id_exp='ifs-fesom2-sr' #ifs-fesom2-sr, 'ifs-amip-tco1279'\n",
    "inpath='/scratch/b/b382006/EERIE/cycle1/'+id_exp+'/'\n",
    "outpath=inpath\n",
    "resolution='3D_6hourly' #6H, 3D_6hourly \n",
    "xr_in=xr.open_mfdataset(inpath+'/z500/'+resolution+'/z500_ifs_c1_*')\n",
    "xr_in = xr_in.sel(time=slice('1985','2014')) ## only 30 years"
   ]
  },
  {
   "cell_type": "code",
   "execution_count": 3,
   "id": "620f792c-567f-4a43-8c04-44df80e9a68a",
   "metadata": {},
   "outputs": [],
   "source": [
    "#xr_in['z'][0,...].plot()"
   ]
  },
  {
   "cell_type": "code",
   "execution_count": 4,
   "id": "dcd10e4b-3e2f-4f95-b6bc-213c5eac4fa9",
   "metadata": {
    "scrolled": true
   },
   "outputs": [],
   "source": [
    "daily_z = xr_in.resample(time='D').mean()#.compute()\n",
    "daily_z\n",
    "\n",
    "xr_in.close()  # here we properly close the dataset. It will still be in memory though.\n",
    "del xr_in"
   ]
  },
  {
   "cell_type": "code",
   "execution_count": 5,
   "id": "10e7ab90-312e-4cc2-abbf-c4018afa889c",
   "metadata": {},
   "outputs": [],
   "source": [
    "### some pre-processing"
   ]
  },
  {
   "cell_type": "code",
   "execution_count": 6,
   "id": "0e06dca3-2549-47a3-aad1-0c0873113d15",
   "metadata": {},
   "outputs": [],
   "source": [
    "### take care of time format --> change to yyyy mm dd - daily icon/ifs\n",
    "#xr_in['time']=xr_in.indexes['time'].normalize()\n",
    "\n",
    "###=== rename zfull\n",
    "#xr_in=xr_in.rename({'z':'GeopotentialHeight'})\n",
    "\n",
    "###for era5\n",
    "#dxr_in=xr_in.drop_dims('bnds')\n",
    "#dxr_in\n",
    "\n",
    "### Take geopotential\n",
    "###icon\n",
    "#in_z_500=xr_in.GeopotentialHeight.sel(plev=50000.0)\n",
    "#daily_z=in_z_500.resample(time='1D').mean(dim='time',keep_attrs=True) #daily mean\n",
    "#dataset_z=xr.DataArray.to_dataset(daily_z)\n",
    "#dataset_z.GeopotentialHeight\n",
    "\n",
    "###==era5\n",
    "#dataset_z=xr_in.resample(time='1D').mean(dim='time',keep_attrs=True) #daily mean\n",
    "\n",
    "#dataset_z.time.attrs['standard_name'] = 'time'\n",
    "#dataset_z.time.attrs['axis'] = 'T'\n",
    "#dataset_z.time\n",
    "\n",
    "#xr_in.time.attrs['standard_name'] = 'time'\n",
    "#xr_in.time.attrs['axis'] = 'T'\n",
    "#xr_in.time\n",
    "\n",
    "## DO we need to resample???\n",
    "###xr_in=xr_in.resample(time='6H').mean(dim='time',keep_attrs=True) #6 hourly mean\n",
    "#daily_z=xr_in.resample(time='1D').mean(dim='time',keep_attrs=True) #daily mean\n",
    "#daily_z\n",
    "\n",
    "### remove extra dimension level\n",
    "#daily_z =xr_in.isel(level=0, drop=True)\n"
   ]
  },
  {
   "cell_type": "code",
   "execution_count": 7,
   "id": "195396d1-14f0-4590-a81b-0dd317d0a1e6",
   "metadata": {},
   "outputs": [
    {
     "name": "stdout",
     "output_type": "stream",
     "text": [
      "1985 2014 /scratch/b/b382006/EERIE/cycle1/ifs-fesom2-sr/block/ABS_Z500/IB.nc\n"
     ]
    }
   ],
   "source": [
    "#OUTPATH = dataset_z.replace(\n",
    "#    'geopotential', 'blocking').replace('.nc', '_bf_3D.nc')\n",
    "OUTPATH=outpath+'block/ABS_Z500/IB.nc'\n",
    "OUTPATH2=outpath+'block/ABS_Z500/ExtendB.nc'\n",
    "OUTPATH3=outpath+'block/ABS_Z500/blocking.nc'\n",
    "yy0=int(daily_z['time'].time[0].dt.year)\n",
    "yyn=int(daily_z['time'].time[-1].dt.year)\n",
    "print(yy0,yyn,OUTPATH)"
   ]
  },
  {
   "cell_type": "code",
   "execution_count": 8,
   "id": "e137ae6f-a94b-4ebd-9cb5-6adbcf93054e",
   "metadata": {},
   "outputs": [
    {
     "name": "stderr",
     "output_type": "stream",
     "text": [
      "2025-04-23 16:23:39,789 - root - INFO - Calculated GPH from GP\n"
     ]
    }
   ],
   "source": [
    "### intitate\n",
    "blk = Blocking()\n",
    "#blk.import_xarray(dataset_z)\n",
    "blk.import_xarray(daily_z)\n",
    "#blk.ds\n",
    "\n",
    "## pre-processing\n",
    "##blk.get_time_subset(months='DJF')\n",
    "##blk.calculate_daily_mean()\n",
    "\n",
    "###era5\n",
    "blk.calculate_gph_from_gp() # calculate geopotential height\n",
    "\n",
    "#blk.ds.time\n",
    "#blk.ds.GeopotentialHeight\n",
    "#blk.ds.GeopotentialHeight"
   ]
  },
  {
   "cell_type": "code",
   "execution_count": 9,
   "id": "2f6a0e28-ee10-4c48-9f0a-97a5014baa24",
   "metadata": {},
   "outputs": [],
   "source": [
    "###"
   ]
  },
  {
   "cell_type": "code",
   "execution_count": null,
   "id": "0dd8ca93-b0b7-46bd-a2c4-398ba92c0dd5",
   "metadata": {},
   "outputs": [
    {
     "name": "stderr",
     "output_type": "stream",
     "text": [
      "2025-04-23 16:23:41,534 - root - INFO - Set time grid distance 1\n",
      "2025-04-23 16:23:41,534 - root - INFO - Set lon grid distance 1\n",
      "2025-04-23 16:23:41,535 - root - INFO - Set lat grid distance 1\n",
      "2025-04-23 16:23:41,535 - root - INFO - Calculate gradients as GeopotentialHeightGradient...\n",
      "2025-04-23 16:23:46,875 - root - INFO - Calculating gradients... DONE\n",
      "2025-04-23 16:23:46,891 - root - INFO - Calculating IB as IB...\n",
      "2025-04-23 16:27:43,682 - root - INFO - Calculating IB... DONE\n",
      "2025-04-23 16:27:43,814 - root - INFO - Calculating extended IB as ExtendedIB...\n",
      "2025-04-23 16:28:15,954 - root - INFO - Calculating extended IB... DONE\n",
      "2025-04-23 16:28:16,096 - root - INFO - Calculating blocking as Blocking...\n",
      "2025-04-23 16:28:19,336 - root - INFO - Calculating time step... 0%\n",
      "2025-04-23 16:36:13,956 - root - INFO - Calculating time step... 10%\n",
      "2025-04-23 16:44:03,835 - root - INFO - Calculating time step... 20%\n",
      "2025-04-23 16:52:07,417 - root - INFO - Calculating time step... 30%\n",
      "2025-04-23 17:00:55,888 - root - INFO - Calculating time step... 40%\n",
      "2025-04-23 17:10:24,847 - root - INFO - Calculating time step... 50%\n"
     ]
    }
   ],
   "source": [
    "blk.set_up(time_name='time', longitude_name='lon', latitude_name='lat')\n",
    "\n",
    "blk.calculate_gradients(delta_degree=15)\n",
    "\n",
    "blk.calculate_ib(\n",
    "    gradient_equator_below=0,\n",
    "    gradient_pole_below=-10,\n",
    "    gradient_equator2_above=5)\n",
    "\n",
    "# \n",
    "blk.calculate_eib(min_extent_degree=15)\n",
    "# \n",
    "blk.calculate_blocking(\n",
    "    stationary_pm_days=2,\n",
    "    longitude_pm_degree=8,\n",
    "    latitude_pm_degree=2)\n",
    "\n",
    "# save to disk \n",
    "blk.save(OUTPATH, 'IB')\n",
    "blk.save(OUTPATH2, 'ExtendedIB')\n",
    "blk.save(OUTPATH3, 'Blocking')"
   ]
  },
  {
   "cell_type": "code",
   "execution_count": null,
   "id": "f412d0f8-25b2-4087-a036-22bc4b32ef5a",
   "metadata": {},
   "outputs": [],
   "source": [
    "###"
   ]
  },
  {
   "cell_type": "code",
   "execution_count": null,
   "id": "18f5780a-191d-4f2d-896c-2aadac69f4bc",
   "metadata": {},
   "outputs": [],
   "source": [
    "###"
   ]
  },
  {
   "cell_type": "markdown",
   "id": "97651c59-a299-411d-86a5-780f73d95242",
   "metadata": {
    "jp-MarkdownHeadingCollapsed": true
   },
   "source": [
    "### ICON simulations"
   ]
  },
  {
   "cell_type": "code",
   "execution_count": 14,
   "id": "264a6e1d-2fd3-48dd-ba13-b13053fbe555",
   "metadata": {},
   "outputs": [
    {
     "data": {
      "text/plain": [
       "\"\\n#########=== START Process for DestinE data\\ninpath='/scratch/b/b382006/icon-climate-dt/'\\nid_exp=''\\ntres='netcdf'\\n\\ndaily_z=xr.open_mfdataset(inpath+id_exp+'/zg/'+tres+'/*nc')\\n\\n#########=== START Process for DestinE data\\n###==rename\\ndaily_z=daily_z.rename({'longitude':'lon',\\n                  'latitude':'lat',\\n                  'forecast_reference_time':'time',\\n                       })\\n\\ndaily_z['z']=daily_z['z'].assign_attrs(units='m**2 s**-2')\\n\\n### remove last months due to high missing numbers\\ndaily_z=daily_z.sel(time=slice('1993-01','2012-09'))\\n\\n### Daily mean\\ndaily_z=daily_z.resample(time='D').mean().compute()\\n\\ndaily_z['z']=daily_z['z'].assign_attrs(_earthkit='none')\\ndaily_z['z'].to_netcdf(inpath+id_exp+'/zg/daily/icon-climate-dt_zg_daily.nc')\\n\""
      ]
     },
     "execution_count": 14,
     "metadata": {},
     "output_type": "execute_result"
    }
   ],
   "source": [
    "### icon DestinE pre-processing\n",
    "'''\n",
    "#########=== START Process for DestinE data\n",
    "inpath='/scratch/b/b382006/icon-climate-dt/'\n",
    "id_exp=''\n",
    "tres='netcdf'\n",
    "\n",
    "daily_z=xr.open_mfdataset(inpath+id_exp+'/zg/'+tres+'/*nc')\n",
    "\n",
    "#########=== START Process for DestinE data\n",
    "###==rename\n",
    "daily_z=daily_z.rename({'longitude':'lon',\n",
    "                  'latitude':'lat',\n",
    "                  'forecast_reference_time':'time',\n",
    "                       })\n",
    "\n",
    "daily_z['z']=daily_z['z'].assign_attrs(units='m**2 s**-2')\n",
    "\n",
    "### remove last months due to high missing numbers\n",
    "daily_z=daily_z.sel(time=slice('1993-01','2012-09'))\n",
    "\n",
    "### Daily mean\n",
    "daily_z=daily_z.resample(time='D').mean().compute()\n",
    "\n",
    "daily_z['z']=daily_z['z'].assign_attrs(_earthkit='none')\n",
    "daily_z['z'].to_netcdf(inpath+id_exp+'/zg/daily/icon-climate-dt_zg_daily.nc')\n",
    "'''\n",
    "########===="
   ]
  },
  {
   "cell_type": "code",
   "execution_count": 15,
   "id": "e41709ea-61d4-4402-96f7-5fd6f3c68535",
   "metadata": {},
   "outputs": [],
   "source": [
    "#daily_z#.to_netcdf(inpath+id_exp+'/zg/daily/icon-climate-dt_zg_daily.nc')\n",
    "#daily_z['z']=daily_z['z'].assign_attrs(_earthkit='none')\n",
    "#daily_z['z'].to_netcdf(inpath+id_exp+'/zg/daily/icon-climate-dt_zg_daily.nc')"
   ]
  },
  {
   "cell_type": "code",
   "execution_count": 22,
   "id": "040d93e1-0dd5-461a-b1ad-bba897f59510",
   "metadata": {},
   "outputs": [
    {
     "name": "stderr",
     "output_type": "stream",
     "text": [
      "2025-04-14 20:19:55,692 - root - INFO - Set time grid distance 1\n",
      "2025-04-14 20:19:55,693 - root - INFO - Set lon grid distance 1\n",
      "2025-04-14 20:19:55,693 - root - WARNING - lat grid not increasing. Inverse dimension!\n",
      "2025-04-14 20:19:55,715 - root - INFO - Set lat grid distance 1\n",
      "2025-04-14 20:19:55,717 - root - INFO - Calculate gradients as GeopotentialHeightGradient...\n"
     ]
    },
    {
     "name": "stdout",
     "output_type": "stream",
     "text": [
      "2020 2050 /work/bm1235/b382006/nextgems/prefinal/ngc4008/block/ABS_Z500/blocking.nc\n"
     ]
    },
    {
     "name": "stderr",
     "output_type": "stream",
     "text": [
      "2025-04-14 20:19:56,780 - root - INFO - Calculating gradients... DONE\n",
      "2025-04-14 20:19:56,802 - root - INFO - Calculating IB as IB...\n",
      "2025-04-14 20:20:24,790 - root - INFO - Calculating IB... DONE\n",
      "2025-04-14 20:20:24,791 - root - INFO - Calculating extended IB as ExtendedIB...\n",
      "2025-04-14 20:20:55,434 - root - INFO - Calculating extended IB... DONE\n",
      "2025-04-14 20:20:55,435 - root - INFO - Calculating blocking as Blocking...\n",
      "2025-04-14 20:20:59,214 - root - INFO - Calculating time step... 0%\n",
      "2025-04-14 20:32:12,915 - root - INFO - Calculating time step... 10%\n",
      "2025-04-14 20:42:35,780 - root - INFO - Calculating time step... 20%\n",
      "2025-04-14 20:52:50,963 - root - INFO - Calculating time step... 30%\n",
      "2025-04-14 21:02:05,922 - root - INFO - Calculating time step... 40%\n",
      "2025-04-14 21:11:39,850 - root - INFO - Calculating time step... 50%\n",
      "2025-04-14 21:21:38,206 - root - INFO - Calculating time step... 60%\n",
      "2025-04-14 21:31:21,051 - root - INFO - Calculating time step... 70%\n",
      "2025-04-14 21:41:20,774 - root - INFO - Calculating time step... 80%\n",
      "2025-04-14 21:51:05,417 - root - INFO - Calculating time step... 90%\n",
      "2025-04-14 22:00:03,570 - root - INFO - Calculating blocking... DONE\n"
     ]
    },
    {
     "ename": "PermissionError",
     "evalue": "[Errno 13] Permission denied: '/work/bm1235/b382006/nextgems/prefinal/ngc4008/block/ABS_Z500/IB.nc'",
     "output_type": "error",
     "traceback": [
      "\u001b[0;31m---------------------------------------------------------------------------\u001b[0m",
      "\u001b[0;31mKeyError\u001b[0m                                  Traceback (most recent call last)",
      "File \u001b[0;32m/home/k/k202134/python-envs/py_312/lib/python3.12/site-packages/xarray/backends/file_manager.py:211\u001b[0m, in \u001b[0;36mCachingFileManager._acquire_with_cache_info\u001b[0;34m(self, needs_lock)\u001b[0m\n\u001b[1;32m    210\u001b[0m \u001b[38;5;28;01mtry\u001b[39;00m:\n\u001b[0;32m--> 211\u001b[0m     file \u001b[38;5;241m=\u001b[39m \u001b[38;5;28;43mself\u001b[39;49m\u001b[38;5;241;43m.\u001b[39;49m\u001b[43m_cache\u001b[49m\u001b[43m[\u001b[49m\u001b[38;5;28;43mself\u001b[39;49m\u001b[38;5;241;43m.\u001b[39;49m\u001b[43m_key\u001b[49m\u001b[43m]\u001b[49m\n\u001b[1;32m    212\u001b[0m \u001b[38;5;28;01mexcept\u001b[39;00m \u001b[38;5;167;01mKeyError\u001b[39;00m:\n",
      "File \u001b[0;32m/home/k/k202134/python-envs/py_312/lib/python3.12/site-packages/xarray/backends/lru_cache.py:56\u001b[0m, in \u001b[0;36mLRUCache.__getitem__\u001b[0;34m(self, key)\u001b[0m\n\u001b[1;32m     55\u001b[0m \u001b[38;5;28;01mwith\u001b[39;00m \u001b[38;5;28mself\u001b[39m\u001b[38;5;241m.\u001b[39m_lock:\n\u001b[0;32m---> 56\u001b[0m     value \u001b[38;5;241m=\u001b[39m \u001b[38;5;28;43mself\u001b[39;49m\u001b[38;5;241;43m.\u001b[39;49m\u001b[43m_cache\u001b[49m\u001b[43m[\u001b[49m\u001b[43mkey\u001b[49m\u001b[43m]\u001b[49m\n\u001b[1;32m     57\u001b[0m     \u001b[38;5;28mself\u001b[39m\u001b[38;5;241m.\u001b[39m_cache\u001b[38;5;241m.\u001b[39mmove_to_end(key)\n",
      "\u001b[0;31mKeyError\u001b[0m: [<class 'netCDF4._netCDF4.Dataset'>, ('/work/bm1235/b382006/nextgems/prefinal/ngc4008/block/ABS_Z500/IB.nc',), 'a', (('clobber', True), ('diskless', False), ('format', 'NETCDF4'), ('persist', False)), '728ee1c1-2112-46b4-a705-952ac022a786']",
      "\nDuring handling of the above exception, another exception occurred:\n",
      "\u001b[0;31mPermissionError\u001b[0m                           Traceback (most recent call last)",
      "Cell \u001b[0;32mIn[22], line 59\u001b[0m\n\u001b[1;32m     53\u001b[0m blk\u001b[38;5;241m.\u001b[39mcalculate_blocking(\n\u001b[1;32m     54\u001b[0m     stationary_pm_days\u001b[38;5;241m=\u001b[39m\u001b[38;5;241m2\u001b[39m,\n\u001b[1;32m     55\u001b[0m     longitude_pm_degree\u001b[38;5;241m=\u001b[39m\u001b[38;5;241m8\u001b[39m,\n\u001b[1;32m     56\u001b[0m     latitude_pm_degree\u001b[38;5;241m=\u001b[39m\u001b[38;5;241m2\u001b[39m)\n\u001b[1;32m     58\u001b[0m \u001b[38;5;66;03m# save to disk \u001b[39;00m\n\u001b[0;32m---> 59\u001b[0m \u001b[43mblk\u001b[49m\u001b[38;5;241;43m.\u001b[39;49m\u001b[43msave\u001b[49m\u001b[43m(\u001b[49m\u001b[43mOUTPATH\u001b[49m\u001b[43m,\u001b[49m\u001b[43m \u001b[49m\u001b[38;5;124;43m'\u001b[39;49m\u001b[38;5;124;43mIB\u001b[39;49m\u001b[38;5;124;43m'\u001b[39;49m\u001b[43m)\u001b[49m\n\u001b[1;32m     60\u001b[0m blk\u001b[38;5;241m.\u001b[39msave(OUTPATH2, \u001b[38;5;124m'\u001b[39m\u001b[38;5;124mExtendedIB\u001b[39m\u001b[38;5;124m'\u001b[39m)\n\u001b[1;32m     61\u001b[0m \u001b[38;5;66;03m#blk.save(OUTPATH3, 'Blocking')\u001b[39;00m\n",
      "File \u001b[0;32m~/tools/Blocking/brunner/blocking/BlockingDetection.py:122\u001b[0m, in \u001b[0;36mBlocking.save\u001b[0;34m(self, path, save_vars, **kwargs)\u001b[0m\n\u001b[1;32m    120\u001b[0m     \u001b[38;5;28;01mfor\u001b[39;00m varn \u001b[38;5;129;01min\u001b[39;00m save_vars:\n\u001b[1;32m    121\u001b[0m         ds[varn] \u001b[38;5;241m=\u001b[39m \u001b[38;5;28mself\u001b[39m\u001b[38;5;241m.\u001b[39mds[varn]\n\u001b[0;32m--> 122\u001b[0m     \u001b[43mds\u001b[49m\u001b[38;5;241;43m.\u001b[39;49m\u001b[43mto_netcdf\u001b[49m\u001b[43m(\u001b[49m\u001b[43mpath\u001b[49m\u001b[43m,\u001b[49m\u001b[43m \u001b[49m\u001b[38;5;241;43m*\u001b[39;49m\u001b[38;5;241;43m*\u001b[39;49m\u001b[43mkwargs\u001b[49m\u001b[43m)\u001b[49m\n\u001b[1;32m    123\u001b[0m \u001b[38;5;28;01melse\u001b[39;00m:\n\u001b[1;32m    124\u001b[0m     \u001b[38;5;28mself\u001b[39m\u001b[38;5;241m.\u001b[39mds\u001b[38;5;241m.\u001b[39mto_netcdf(path, \u001b[38;5;241m*\u001b[39m\u001b[38;5;241m*\u001b[39mkwargs)\n",
      "File \u001b[0;32m/home/k/k202134/python-envs/py_312/lib/python3.12/site-packages/xarray/core/dataset.py:2380\u001b[0m, in \u001b[0;36mDataset.to_netcdf\u001b[0;34m(self, path, mode, format, group, engine, encoding, unlimited_dims, compute, invalid_netcdf, auto_complex)\u001b[0m\n\u001b[1;32m   2377\u001b[0m     encoding \u001b[38;5;241m=\u001b[39m {}\n\u001b[1;32m   2378\u001b[0m \u001b[38;5;28;01mfrom\u001b[39;00m \u001b[38;5;21;01mxarray\u001b[39;00m\u001b[38;5;21;01m.\u001b[39;00m\u001b[38;5;21;01mbackends\u001b[39;00m\u001b[38;5;21;01m.\u001b[39;00m\u001b[38;5;21;01mapi\u001b[39;00m \u001b[38;5;28;01mimport\u001b[39;00m to_netcdf\n\u001b[0;32m-> 2380\u001b[0m \u001b[38;5;28;01mreturn\u001b[39;00m \u001b[43mto_netcdf\u001b[49m\u001b[43m(\u001b[49m\u001b[43m  \u001b[49m\u001b[38;5;66;43;03m# type: ignore[return-value]  # mypy cannot resolve the overloads:(\u001b[39;49;00m\n\u001b[1;32m   2381\u001b[0m \u001b[43m    \u001b[49m\u001b[38;5;28;43mself\u001b[39;49m\u001b[43m,\u001b[49m\n\u001b[1;32m   2382\u001b[0m \u001b[43m    \u001b[49m\u001b[43mpath\u001b[49m\u001b[43m,\u001b[49m\n\u001b[1;32m   2383\u001b[0m \u001b[43m    \u001b[49m\u001b[43mmode\u001b[49m\u001b[38;5;241;43m=\u001b[39;49m\u001b[43mmode\u001b[49m\u001b[43m,\u001b[49m\n\u001b[1;32m   2384\u001b[0m \u001b[43m    \u001b[49m\u001b[38;5;28;43mformat\u001b[39;49m\u001b[38;5;241;43m=\u001b[39;49m\u001b[38;5;28;43mformat\u001b[39;49m\u001b[43m,\u001b[49m\n\u001b[1;32m   2385\u001b[0m \u001b[43m    \u001b[49m\u001b[43mgroup\u001b[49m\u001b[38;5;241;43m=\u001b[39;49m\u001b[43mgroup\u001b[49m\u001b[43m,\u001b[49m\n\u001b[1;32m   2386\u001b[0m \u001b[43m    \u001b[49m\u001b[43mengine\u001b[49m\u001b[38;5;241;43m=\u001b[39;49m\u001b[43mengine\u001b[49m\u001b[43m,\u001b[49m\n\u001b[1;32m   2387\u001b[0m \u001b[43m    \u001b[49m\u001b[43mencoding\u001b[49m\u001b[38;5;241;43m=\u001b[39;49m\u001b[43mencoding\u001b[49m\u001b[43m,\u001b[49m\n\u001b[1;32m   2388\u001b[0m \u001b[43m    \u001b[49m\u001b[43munlimited_dims\u001b[49m\u001b[38;5;241;43m=\u001b[39;49m\u001b[43munlimited_dims\u001b[49m\u001b[43m,\u001b[49m\n\u001b[1;32m   2389\u001b[0m \u001b[43m    \u001b[49m\u001b[43mcompute\u001b[49m\u001b[38;5;241;43m=\u001b[39;49m\u001b[43mcompute\u001b[49m\u001b[43m,\u001b[49m\n\u001b[1;32m   2390\u001b[0m \u001b[43m    \u001b[49m\u001b[43mmultifile\u001b[49m\u001b[38;5;241;43m=\u001b[39;49m\u001b[38;5;28;43;01mFalse\u001b[39;49;00m\u001b[43m,\u001b[49m\n\u001b[1;32m   2391\u001b[0m \u001b[43m    \u001b[49m\u001b[43minvalid_netcdf\u001b[49m\u001b[38;5;241;43m=\u001b[39;49m\u001b[43minvalid_netcdf\u001b[49m\u001b[43m,\u001b[49m\n\u001b[1;32m   2392\u001b[0m \u001b[43m    \u001b[49m\u001b[43mauto_complex\u001b[49m\u001b[38;5;241;43m=\u001b[39;49m\u001b[43mauto_complex\u001b[49m\u001b[43m,\u001b[49m\n\u001b[1;32m   2393\u001b[0m \u001b[43m\u001b[49m\u001b[43m)\u001b[49m\n",
      "File \u001b[0;32m/home/k/k202134/python-envs/py_312/lib/python3.12/site-packages/xarray/backends/api.py:1911\u001b[0m, in \u001b[0;36mto_netcdf\u001b[0;34m(dataset, path_or_file, mode, format, group, engine, encoding, unlimited_dims, compute, multifile, invalid_netcdf, auto_complex)\u001b[0m\n\u001b[1;32m   1908\u001b[0m \u001b[38;5;28;01mif\u001b[39;00m auto_complex \u001b[38;5;129;01mis\u001b[39;00m \u001b[38;5;129;01mnot\u001b[39;00m \u001b[38;5;28;01mNone\u001b[39;00m:\n\u001b[1;32m   1909\u001b[0m     kwargs[\u001b[38;5;124m\"\u001b[39m\u001b[38;5;124mauto_complex\u001b[39m\u001b[38;5;124m\"\u001b[39m] \u001b[38;5;241m=\u001b[39m auto_complex\n\u001b[0;32m-> 1911\u001b[0m store \u001b[38;5;241m=\u001b[39m \u001b[43mstore_open\u001b[49m\u001b[43m(\u001b[49m\u001b[43mtarget\u001b[49m\u001b[43m,\u001b[49m\u001b[43m \u001b[49m\u001b[43mmode\u001b[49m\u001b[43m,\u001b[49m\u001b[43m \u001b[49m\u001b[38;5;28;43mformat\u001b[39;49m\u001b[43m,\u001b[49m\u001b[43m \u001b[49m\u001b[43mgroup\u001b[49m\u001b[43m,\u001b[49m\u001b[43m \u001b[49m\u001b[38;5;241;43m*\u001b[39;49m\u001b[38;5;241;43m*\u001b[39;49m\u001b[43mkwargs\u001b[49m\u001b[43m)\u001b[49m\n\u001b[1;32m   1913\u001b[0m \u001b[38;5;28;01mif\u001b[39;00m unlimited_dims \u001b[38;5;129;01mis\u001b[39;00m \u001b[38;5;28;01mNone\u001b[39;00m:\n\u001b[1;32m   1914\u001b[0m     unlimited_dims \u001b[38;5;241m=\u001b[39m dataset\u001b[38;5;241m.\u001b[39mencoding\u001b[38;5;241m.\u001b[39mget(\u001b[38;5;124m\"\u001b[39m\u001b[38;5;124munlimited_dims\u001b[39m\u001b[38;5;124m\"\u001b[39m, \u001b[38;5;28;01mNone\u001b[39;00m)\n",
      "File \u001b[0;32m/home/k/k202134/python-envs/py_312/lib/python3.12/site-packages/xarray/backends/netCDF4_.py:452\u001b[0m, in \u001b[0;36mNetCDF4DataStore.open\u001b[0;34m(cls, filename, mode, format, group, clobber, diskless, persist, auto_complex, lock, lock_maker, autoclose)\u001b[0m\n\u001b[1;32m    448\u001b[0m     kwargs[\u001b[38;5;124m\"\u001b[39m\u001b[38;5;124mauto_complex\u001b[39m\u001b[38;5;124m\"\u001b[39m] \u001b[38;5;241m=\u001b[39m auto_complex\n\u001b[1;32m    449\u001b[0m manager \u001b[38;5;241m=\u001b[39m CachingFileManager(\n\u001b[1;32m    450\u001b[0m     netCDF4\u001b[38;5;241m.\u001b[39mDataset, filename, mode\u001b[38;5;241m=\u001b[39mmode, kwargs\u001b[38;5;241m=\u001b[39mkwargs\n\u001b[1;32m    451\u001b[0m )\n\u001b[0;32m--> 452\u001b[0m \u001b[38;5;28;01mreturn\u001b[39;00m \u001b[38;5;28;43mcls\u001b[39;49m\u001b[43m(\u001b[49m\u001b[43mmanager\u001b[49m\u001b[43m,\u001b[49m\u001b[43m \u001b[49m\u001b[43mgroup\u001b[49m\u001b[38;5;241;43m=\u001b[39;49m\u001b[43mgroup\u001b[49m\u001b[43m,\u001b[49m\u001b[43m \u001b[49m\u001b[43mmode\u001b[49m\u001b[38;5;241;43m=\u001b[39;49m\u001b[43mmode\u001b[49m\u001b[43m,\u001b[49m\u001b[43m \u001b[49m\u001b[43mlock\u001b[49m\u001b[38;5;241;43m=\u001b[39;49m\u001b[43mlock\u001b[49m\u001b[43m,\u001b[49m\u001b[43m \u001b[49m\u001b[43mautoclose\u001b[49m\u001b[38;5;241;43m=\u001b[39;49m\u001b[43mautoclose\u001b[49m\u001b[43m)\u001b[49m\n",
      "File \u001b[0;32m/home/k/k202134/python-envs/py_312/lib/python3.12/site-packages/xarray/backends/netCDF4_.py:393\u001b[0m, in \u001b[0;36mNetCDF4DataStore.__init__\u001b[0;34m(self, manager, group, mode, lock, autoclose)\u001b[0m\n\u001b[1;32m    391\u001b[0m \u001b[38;5;28mself\u001b[39m\u001b[38;5;241m.\u001b[39m_group \u001b[38;5;241m=\u001b[39m group\n\u001b[1;32m    392\u001b[0m \u001b[38;5;28mself\u001b[39m\u001b[38;5;241m.\u001b[39m_mode \u001b[38;5;241m=\u001b[39m mode\n\u001b[0;32m--> 393\u001b[0m \u001b[38;5;28mself\u001b[39m\u001b[38;5;241m.\u001b[39mformat \u001b[38;5;241m=\u001b[39m \u001b[38;5;28;43mself\u001b[39;49m\u001b[38;5;241;43m.\u001b[39;49m\u001b[43mds\u001b[49m\u001b[38;5;241m.\u001b[39mdata_model\n\u001b[1;32m    394\u001b[0m \u001b[38;5;28mself\u001b[39m\u001b[38;5;241m.\u001b[39m_filename \u001b[38;5;241m=\u001b[39m \u001b[38;5;28mself\u001b[39m\u001b[38;5;241m.\u001b[39mds\u001b[38;5;241m.\u001b[39mfilepath()\n\u001b[1;32m    395\u001b[0m \u001b[38;5;28mself\u001b[39m\u001b[38;5;241m.\u001b[39mis_remote \u001b[38;5;241m=\u001b[39m is_remote_uri(\u001b[38;5;28mself\u001b[39m\u001b[38;5;241m.\u001b[39m_filename)\n",
      "File \u001b[0;32m/home/k/k202134/python-envs/py_312/lib/python3.12/site-packages/xarray/backends/netCDF4_.py:461\u001b[0m, in \u001b[0;36mNetCDF4DataStore.ds\u001b[0;34m(self)\u001b[0m\n\u001b[1;32m    459\u001b[0m \u001b[38;5;129m@property\u001b[39m\n\u001b[1;32m    460\u001b[0m \u001b[38;5;28;01mdef\u001b[39;00m \u001b[38;5;21mds\u001b[39m(\u001b[38;5;28mself\u001b[39m):\n\u001b[0;32m--> 461\u001b[0m     \u001b[38;5;28;01mreturn\u001b[39;00m \u001b[38;5;28;43mself\u001b[39;49m\u001b[38;5;241;43m.\u001b[39;49m\u001b[43m_acquire\u001b[49m\u001b[43m(\u001b[49m\u001b[43m)\u001b[49m\n",
      "File \u001b[0;32m/home/k/k202134/python-envs/py_312/lib/python3.12/site-packages/xarray/backends/netCDF4_.py:455\u001b[0m, in \u001b[0;36mNetCDF4DataStore._acquire\u001b[0;34m(self, needs_lock)\u001b[0m\n\u001b[1;32m    454\u001b[0m \u001b[38;5;28;01mdef\u001b[39;00m \u001b[38;5;21m_acquire\u001b[39m(\u001b[38;5;28mself\u001b[39m, needs_lock\u001b[38;5;241m=\u001b[39m\u001b[38;5;28;01mTrue\u001b[39;00m):\n\u001b[0;32m--> 455\u001b[0m     \u001b[38;5;28;01mwith\u001b[39;00m \u001b[38;5;28mself\u001b[39m\u001b[38;5;241m.\u001b[39m_manager\u001b[38;5;241m.\u001b[39macquire_context(needs_lock) \u001b[38;5;28;01mas\u001b[39;00m root:\n\u001b[1;32m    456\u001b[0m         ds \u001b[38;5;241m=\u001b[39m _nc4_require_group(root, \u001b[38;5;28mself\u001b[39m\u001b[38;5;241m.\u001b[39m_group, \u001b[38;5;28mself\u001b[39m\u001b[38;5;241m.\u001b[39m_mode)\n\u001b[1;32m    457\u001b[0m     \u001b[38;5;28;01mreturn\u001b[39;00m ds\n",
      "File \u001b[0;32m/home/k/k202134/python-envs/py_312/lib/python3.12/contextlib.py:137\u001b[0m, in \u001b[0;36m_GeneratorContextManager.__enter__\u001b[0;34m(self)\u001b[0m\n\u001b[1;32m    135\u001b[0m \u001b[38;5;28;01mdel\u001b[39;00m \u001b[38;5;28mself\u001b[39m\u001b[38;5;241m.\u001b[39margs, \u001b[38;5;28mself\u001b[39m\u001b[38;5;241m.\u001b[39mkwds, \u001b[38;5;28mself\u001b[39m\u001b[38;5;241m.\u001b[39mfunc\n\u001b[1;32m    136\u001b[0m \u001b[38;5;28;01mtry\u001b[39;00m:\n\u001b[0;32m--> 137\u001b[0m     \u001b[38;5;28;01mreturn\u001b[39;00m \u001b[38;5;28;43mnext\u001b[39;49m\u001b[43m(\u001b[49m\u001b[38;5;28;43mself\u001b[39;49m\u001b[38;5;241;43m.\u001b[39;49m\u001b[43mgen\u001b[49m\u001b[43m)\u001b[49m\n\u001b[1;32m    138\u001b[0m \u001b[38;5;28;01mexcept\u001b[39;00m \u001b[38;5;167;01mStopIteration\u001b[39;00m:\n\u001b[1;32m    139\u001b[0m     \u001b[38;5;28;01mraise\u001b[39;00m \u001b[38;5;167;01mRuntimeError\u001b[39;00m(\u001b[38;5;124m\"\u001b[39m\u001b[38;5;124mgenerator didn\u001b[39m\u001b[38;5;124m'\u001b[39m\u001b[38;5;124mt yield\u001b[39m\u001b[38;5;124m\"\u001b[39m) \u001b[38;5;28;01mfrom\u001b[39;00m \u001b[38;5;28;01mNone\u001b[39;00m\n",
      "File \u001b[0;32m/home/k/k202134/python-envs/py_312/lib/python3.12/site-packages/xarray/backends/file_manager.py:199\u001b[0m, in \u001b[0;36mCachingFileManager.acquire_context\u001b[0;34m(self, needs_lock)\u001b[0m\n\u001b[1;32m    196\u001b[0m \u001b[38;5;129m@contextlib\u001b[39m\u001b[38;5;241m.\u001b[39mcontextmanager\n\u001b[1;32m    197\u001b[0m \u001b[38;5;28;01mdef\u001b[39;00m \u001b[38;5;21macquire_context\u001b[39m(\u001b[38;5;28mself\u001b[39m, needs_lock\u001b[38;5;241m=\u001b[39m\u001b[38;5;28;01mTrue\u001b[39;00m):\n\u001b[1;32m    198\u001b[0m \u001b[38;5;250m    \u001b[39m\u001b[38;5;124;03m\"\"\"Context manager for acquiring a file.\"\"\"\u001b[39;00m\n\u001b[0;32m--> 199\u001b[0m     file, cached \u001b[38;5;241m=\u001b[39m \u001b[38;5;28;43mself\u001b[39;49m\u001b[38;5;241;43m.\u001b[39;49m\u001b[43m_acquire_with_cache_info\u001b[49m\u001b[43m(\u001b[49m\u001b[43mneeds_lock\u001b[49m\u001b[43m)\u001b[49m\n\u001b[1;32m    200\u001b[0m     \u001b[38;5;28;01mtry\u001b[39;00m:\n\u001b[1;32m    201\u001b[0m         \u001b[38;5;28;01myield\u001b[39;00m file\n",
      "File \u001b[0;32m/home/k/k202134/python-envs/py_312/lib/python3.12/site-packages/xarray/backends/file_manager.py:217\u001b[0m, in \u001b[0;36mCachingFileManager._acquire_with_cache_info\u001b[0;34m(self, needs_lock)\u001b[0m\n\u001b[1;32m    215\u001b[0m     kwargs \u001b[38;5;241m=\u001b[39m kwargs\u001b[38;5;241m.\u001b[39mcopy()\n\u001b[1;32m    216\u001b[0m     kwargs[\u001b[38;5;124m\"\u001b[39m\u001b[38;5;124mmode\u001b[39m\u001b[38;5;124m\"\u001b[39m] \u001b[38;5;241m=\u001b[39m \u001b[38;5;28mself\u001b[39m\u001b[38;5;241m.\u001b[39m_mode\n\u001b[0;32m--> 217\u001b[0m file \u001b[38;5;241m=\u001b[39m \u001b[38;5;28;43mself\u001b[39;49m\u001b[38;5;241;43m.\u001b[39;49m\u001b[43m_opener\u001b[49m\u001b[43m(\u001b[49m\u001b[38;5;241;43m*\u001b[39;49m\u001b[38;5;28;43mself\u001b[39;49m\u001b[38;5;241;43m.\u001b[39;49m\u001b[43m_args\u001b[49m\u001b[43m,\u001b[49m\u001b[43m \u001b[49m\u001b[38;5;241;43m*\u001b[39;49m\u001b[38;5;241;43m*\u001b[39;49m\u001b[43mkwargs\u001b[49m\u001b[43m)\u001b[49m\n\u001b[1;32m    218\u001b[0m \u001b[38;5;28;01mif\u001b[39;00m \u001b[38;5;28mself\u001b[39m\u001b[38;5;241m.\u001b[39m_mode \u001b[38;5;241m==\u001b[39m \u001b[38;5;124m\"\u001b[39m\u001b[38;5;124mw\u001b[39m\u001b[38;5;124m\"\u001b[39m:\n\u001b[1;32m    219\u001b[0m     \u001b[38;5;66;03m# ensure file doesn't get overridden when opened again\u001b[39;00m\n\u001b[1;32m    220\u001b[0m     \u001b[38;5;28mself\u001b[39m\u001b[38;5;241m.\u001b[39m_mode \u001b[38;5;241m=\u001b[39m \u001b[38;5;124m\"\u001b[39m\u001b[38;5;124ma\u001b[39m\u001b[38;5;124m\"\u001b[39m\n",
      "File \u001b[0;32msrc/netCDF4/_netCDF4.pyx:2521\u001b[0m, in \u001b[0;36mnetCDF4._netCDF4.Dataset.__init__\u001b[0;34m()\u001b[0m\n",
      "File \u001b[0;32msrc/netCDF4/_netCDF4.pyx:2158\u001b[0m, in \u001b[0;36mnetCDF4._netCDF4._ensure_nc_success\u001b[0;34m()\u001b[0m\n",
      "\u001b[0;31mPermissionError\u001b[0m: [Errno 13] Permission denied: '/work/bm1235/b382006/nextgems/prefinal/ngc4008/block/ABS_Z500/IB.nc'"
     ]
    }
   ],
   "source": [
    "### icon production\n",
    "inpath='/work/bm1235/b382006/nextgems/prefinal/'\n",
    "outpath='/scratch/b/b382006/nextgems/prefinal/'\n",
    "id_exp='ngc4008'\n",
    "tres='daily'\n",
    "daily_z=xr.open_mfdataset(inpath+id_exp+'/zg/'+tres+'/zg50000_icon_prefinal*')\n",
    "#daily_z\n",
    "\n",
    "### icon DestinE\n",
    "#inpath='/scratch/b/b382006/icon-climate-dt/'\n",
    "#outpath=inpath\n",
    "#id_exp=''\n",
    "#tres='daily'\n",
    "#daily_z=xr.open_mfdataset(inpath+id_exp+'/zg/'+tres+'/icon-climate-dt_zg_daily.nc')\n",
    "\n",
    "\n",
    "\n",
    "# Now `GeopotentialHeight` replaces `zg` in production ngc4008 runs\n",
    "daily_z = daily_z.rename({'zg': 'GeopotentialHeight'})\n",
    "#print(daily_z)\n",
    "\n",
    "OUTPATH=outpath+id_exp+'/'+'block/ABS_Z500/IB.nc'\n",
    "OUTPATH2=outpath+id_exp+'/'+'block/ABS_Z500/ExtendB.nc'\n",
    "OUTPATH3=outpath+id_exp+'/'+'block/ABS_Z500/blocking.nc'\n",
    "\n",
    "yy0=int(daily_z['time'].time[0].dt.year)\n",
    "yyn=int(daily_z['time'].time[-1].dt.year)\n",
    "print(yy0,yyn,OUTPATH3)\n",
    "\n",
    "### intitate\n",
    "blk = Blocking()\n",
    "blk.import_xarray(daily_z)\n",
    "\n",
    "\n",
    "### DestinE\n",
    "#blk.calculate_gph_from_gp() # calculate geopotential height\n",
    "\n",
    "### many warnings problem | use size to dertimine dimensions\n",
    "warnings.filterwarnings(\"ignore\", category=FutureWarning)\n",
    "\n",
    "blk.set_up(time_name='time', longitude_name='lon', latitude_name='lat')\n",
    "\n",
    "blk.calculate_gradients(delta_degree=15)\n",
    "\n",
    "blk.calculate_ib(\n",
    "    gradient_equator_below=0,\n",
    "    gradient_pole_below=-10,\n",
    "    gradient_equator2_above=5)\n",
    "\n",
    "# \n",
    "blk.calculate_eib(min_extent_degree=15)\n",
    "# \n",
    "blk.calculate_blocking(\n",
    "    stationary_pm_days=2,\n",
    "    longitude_pm_degree=8,\n",
    "    latitude_pm_degree=2)\n",
    "\n",
    "# save to disk \n",
    "blk.save(OUTPATH, 'IB')\n",
    "blk.save(OUTPATH2, 'ExtendedIB')\n",
    "blk.save(OUTPATH3, 'Blocking')"
   ]
  },
  {
   "cell_type": "code",
   "execution_count": 25,
   "id": "f12ca33d-f133-434e-ba69-0107d5ad0211",
   "metadata": {},
   "outputs": [],
   "source": [
    "###"
   ]
  },
  {
   "cell_type": "markdown",
   "id": "f9fa1bb0-6c3a-454e-b32a-5b0b2d7d9408",
   "metadata": {
    "jp-MarkdownHeadingCollapsed": true
   },
   "source": [
    "### Open saved data "
   ]
  },
  {
   "cell_type": "code",
   "execution_count": 13,
   "id": "e05f70e3-a6f1-41f4-aba8-302cbe05fe7e",
   "metadata": {},
   "outputs": [
    {
     "data": {
      "text/plain": [
       "10939"
      ]
     },
     "execution_count": 13,
     "metadata": {},
     "output_type": "execute_result"
    }
   ],
   "source": [
    "#inpath='/scratch/b/b382006/nextgems/prefinal/IFS_9-FESOM_5-production-hist/'\n",
    "block = xr.open_dataset(OUTPATH)\n",
    "block2 = xr.open_dataset(OUTPATH2)\n",
    "block3 = xr.open_dataset(OUTPATH3)\n",
    "\n",
    "ntime=len(block.time)\n",
    "ntime"
   ]
  },
  {
   "cell_type": "code",
   "execution_count": 14,
   "id": "26c118c5-41b5-49d1-b460-ffc24ca33902",
   "metadata": {},
   "outputs": [],
   "source": [
    "### accumulate \n",
    "acc=block.IB.sum(dim='time')\n",
    "acc2=block2.ExtendedIB.sum(dim='time')\n",
    "acc3=block3.Blocking.sum(dim='time')\n",
    "acc = acc/ntime\n",
    "acc *= 100\n",
    "\n",
    "acc2 = acc2/ntime\n",
    "acc2 *= 100\n",
    "\n",
    "acc3 = acc3/ntime\n",
    "acc3 *= 100"
   ]
  },
  {
   "cell_type": "code",
   "execution_count": 15,
   "id": "03defb16-e73f-4d88-b5f7-c7bccae92399",
   "metadata": {},
   "outputs": [
    {
     "data": {
      "image/png": "[encoded data removed]",
      "text/plain": [
       "<Figure size 1600x1200 with 6 Axes>"
      ]
     },
     "metadata": {},
     "output_type": "display_data"
    }
   ],
   "source": [
    "\n",
    "###=== plotting\n",
    "fig, (ax1,ax2,ax3) = plt.subplots(3, 1, figsize=(16, 12), subplot_kw={'projection': ccrs.NorthPolarStereo()})\n",
    "#fig, ax = plt.subplots(figsize=(7, 5), subplot_kw={'projection': ccrs.NorthPolarStereo()})\n",
    "#std_djf.plot(ax=ax1,levels=np.linspace(200,800,11), cmap='YlOrRd', extend = 'both', transform=ccrs.PlateCarree(),add_colorbar=True)\n",
    "#dstd_djf[0,:,:].\n",
    "acc.plot.contourf(ax=ax1,levels = np.linspace(1,10,7),cmap='Oranges',extend = 'max', transform=ccrs.PlateCarree())\n",
    "ax1.coastlines()\n",
    "ax1.set_extent([-180, 180, 30, 90], crs=ccrs.PlateCarree())\n",
    "\n",
    "acc2.plot.contourf(ax=ax2,levels = np.linspace(1,10,8),cmap='Oranges',extend = 'max', transform=ccrs.PlateCarree())\n",
    "ax2.coastlines()\n",
    "ax2.set_extent([-180, 180, 30, 90], crs=ccrs.PlateCarree())\n",
    "\n",
    "acc3.plot.contourf(ax=ax3,levels = np.linspace(1,10,8),cmap='Oranges',extend = 'max', transform=ccrs.PlateCarree())\n",
    "ax3.coastlines()\n",
    "ax3.set_extent([-180, 180, 30, 90], crs=ccrs.PlateCarree())\n",
    "\n",
    "#acc.plot.contour(colors='grey', linewidths=0.8, levels = np.linspace(2,16,8), transform=ccrs.PlateCarree())\n",
    "\n",
    "\n",
    "\n"
   ]
  },
  {
   "cell_type": "markdown",
   "id": "1327ea59-dbc5-409c-b725-3da7eada031a",
   "metadata": {
    "jp-MarkdownHeadingCollapsed": true,
    "tags": []
   },
   "source": [
    "## Compute for whole period year by year"
   ]
  },
  {
   "cell_type": "code",
   "execution_count": 4,
   "id": "5b26005a-39b4-4e57-8b74-3fa8dc9c6db8",
   "metadata": {
    "tags": []
   },
   "outputs": [],
   "source": [
    "### Method 1"
   ]
  },
  {
   "cell_type": "code",
   "execution_count": 16,
   "id": "dcc837d4-97fa-440e-a0a9-1ace17cac7a5",
   "metadata": {
    "tags": []
   },
   "outputs": [
    {
     "data": {
      "text/plain": [
       "'\\n###cmip6 [\"MRI-ESM2-0\",\"ACCESS-CM2\",\"EC-Earth3\",\"CESM2-WACCM\",\"MIROC6\",\"MPI-ESM1-2-HR\",\"MPI-ESM1-2-LR\",\"CESM2\"]\\n\\nexper=\\'historical\\' #\\'ssp585\\'\\ninpath=\"/scratch/b/b382006/cmip6/\"+exper+\"/\"\\noutpath = \"/scratch/b/b382006/cmip6/\"+exper+\"/\"\\nmodel=\"ACCESS-CM2\"\\nmember_id=\"r1i1p1f1\"\\n\\n#infile=inpath+model+\"/\"+member_id+\"/daily/50000/cmip6_zg_*\"\\n#xr_in=xr.open_mfdataset(infile)\\n\\nxr_in=xr.open_mfdataset(\\'/work/bm1235/b382006/cmip6/ACCESS-CM2/r1i1p1f1/daily/201?/Z*\\')\\n\\n\\n### Sel one pressure level of 500 hPa\\nxr_in=xr_in.sel(plev=50000., drop=True)\\n\\n###==output\\n###nextgems\\n#dir_res=\\'/scratch/b/b382006/nextgems/prefinal/ngc4008/block/ABS_Z500/\\'\\n##dir_res=\\'/scratch/b/b382006/nextgems/prefinal/IFS_9-FESOM_5-production/block/ABS_Z500/\\'\\n\\n###cmip6 \\ndir_res=outpath+model+\"/\"+member_id+\"/block/ABS_500\"\\n\\nprint(dir_res)\\n\\ny0=1979 #2061 #1979, 2025, 2061\\nyn=2015 #2101 #2015, 2050, 2101\\nyears=np.arange(y0,yn,1)\\n\\n\\nfor year in years:\\n    ofile= \"block_ABS-Z500_\"+str(year)+\".nc\"\\n\\n    if not os.path.exists(dir_res):\\n        os.makedirs(dir_res)\\n\\n    OUTPATH=dir_res+\\'/\\'+ofile\\n    OUTPATH2=dir_res+\\'/ExtendB_\\'+str(year)+\\'.nc\\'\\n    OUTPATH3=dir_res+\\'/IB_\\'+str(year)+\\'.nc\\'\\n\\n    print(OUTPATH)\\n\\n    ### IFS Compute yearly\\n#    data=daily_z.sel(time=daily_z.time.dt.year.isin([year]))\\n    ### ICON Compute yearly\\n    data=xr_in.sel(time=xr_in.time.dt.year.isin([year]))\\n\\n###=== intitate\\n    blk = Blocking()\\n\\n    blk.import_xarray(data)\\n\\n    ### not for ICON\\n    blk.calculate_gph_from_gp(gp_name=\\'Z\\') # calculate geopotential height\\n\\n    blk.set_up(time_name=\\'time\\',longitude_name=\\'lon\\', latitude_name=\\'lat\\')\\n\\n    blk.calculate_gradients(delta_degree=15)\\n\\n    blk.calculate_ib(\\n    gradient_equator_below=0,\\n    gradient_pole_below=-10,\\n    gradient_equator2_above=5)\\n\\n#\\n    blk.calculate_eib(min_extent_degree=15)\\n\\n#\\n    blk.calculate_blocking(\\n    stationary_pm_days=2,\\n    longitude_pm_degree=8,\\n    latitude_pm_degree=2)\\n\\n# save to disk\\n#    blk.save(OUTPATH, \\'Blocking\\')\\n    blk.save(OUTPATH2, \\'ExtendedIB\\')\\n    blk.save(OUTPATH3, \\'IB\\')\\n\\n    data.close()\\n'"
      ]
     },
     "execution_count": 16,
     "metadata": {},
     "output_type": "execute_result"
    }
   ],
   "source": [
    "'''\n",
    "###cmip6 [\"MRI-ESM2-0\",\"ACCESS-CM2\",\"EC-Earth3\",\"CESM2-WACCM\",\"MIROC6\",\"MPI-ESM1-2-HR\",\"MPI-ESM1-2-LR\",\"CESM2\"]\n",
    "\n",
    "exper='historical' #'ssp585'\n",
    "inpath=\"/scratch/b/b382006/cmip6/\"+exper+\"/\"\n",
    "outpath = \"/scratch/b/b382006/cmip6/\"+exper+\"/\"\n",
    "model=\"ACCESS-CM2\"\n",
    "member_id=\"r1i1p1f1\"\n",
    "\n",
    "#infile=inpath+model+\"/\"+member_id+\"/daily/50000/cmip6_zg_*\"\n",
    "#xr_in=xr.open_mfdataset(infile)\n",
    "\n",
    "xr_in=xr.open_mfdataset('/work/bm1235/b382006/cmip6/ACCESS-CM2/r1i1p1f1/daily/201?/Z*')\n",
    "\n",
    "\n",
    "### Sel one pressure level of 500 hPa\n",
    "xr_in=xr_in.sel(plev=50000., drop=True)\n",
    "\n",
    "###==output\n",
    "###nextgems\n",
    "#dir_res='/scratch/b/b382006/nextgems/prefinal/ngc4008/block/ABS_Z500/'\n",
    "##dir_res='/scratch/b/b382006/nextgems/prefinal/IFS_9-FESOM_5-production/block/ABS_Z500/'\n",
    "\n",
    "###cmip6 \n",
    "dir_res=outpath+model+\"/\"+member_id+\"/block/ABS_500\"\n",
    "\n",
    "print(dir_res)\n",
    "\n",
    "y0=1979 #2061 #1979, 2025, 2061\n",
    "yn=2015 #2101 #2015, 2050, 2101\n",
    "years=np.arange(y0,yn,1)\n",
    "\n",
    "\n",
    "for year in years:\n",
    "    ofile= \"block_ABS-Z500_\"+str(year)+\".nc\"\n",
    "\n",
    "    if not os.path.exists(dir_res):\n",
    "        os.makedirs(dir_res)\n",
    "\n",
    "    OUTPATH=dir_res+'/'+ofile\n",
    "    OUTPATH2=dir_res+'/ExtendB_'+str(year)+'.nc'\n",
    "    OUTPATH3=dir_res+'/IB_'+str(year)+'.nc'\n",
    "\n",
    "    print(OUTPATH)\n",
    "\n",
    "    ### IFS Compute yearly\n",
    "#    data=daily_z.sel(time=daily_z.time.dt.year.isin([year]))\n",
    "    ### ICON Compute yearly\n",
    "    data=xr_in.sel(time=xr_in.time.dt.year.isin([year]))\n",
    "\n",
    "###=== intitate\n",
    "    blk = Blocking()\n",
    "\n",
    "    blk.import_xarray(data)\n",
    "\n",
    "    ### not for ICON\n",
    "    blk.calculate_gph_from_gp(gp_name='Z') # calculate geopotential height\n",
    "\n",
    "    blk.set_up(time_name='time',longitude_name='lon', latitude_name='lat')\n",
    "\n",
    "    blk.calculate_gradients(delta_degree=15)\n",
    "\n",
    "    blk.calculate_ib(\n",
    "    gradient_equator_below=0,\n",
    "    gradient_pole_below=-10,\n",
    "    gradient_equator2_above=5)\n",
    "\n",
    "#\n",
    "    blk.calculate_eib(min_extent_degree=15)\n",
    "\n",
    "#\n",
    "    blk.calculate_blocking(\n",
    "    stationary_pm_days=2,\n",
    "    longitude_pm_degree=8,\n",
    "    latitude_pm_degree=2)\n",
    "\n",
    "# save to disk\n",
    "#    blk.save(OUTPATH, 'Blocking')\n",
    "    blk.save(OUTPATH2, 'ExtendedIB')\n",
    "    blk.save(OUTPATH3, 'IB')\n",
    "\n",
    "    data.close()\n",
    "'''"
   ]
  },
  {
   "cell_type": "code",
   "execution_count": 11,
   "id": "6f9f079c-cf24-4570-9109-2d38db592d5f",
   "metadata": {
    "tags": []
   },
   "outputs": [],
   "source": [
    "###"
   ]
  },
  {
   "cell_type": "code",
   "execution_count": 4,
   "id": "8ef162df-c8e4-4a4a-aae7-82a123a6a216",
   "metadata": {
    "tags": []
   },
   "outputs": [],
   "source": [
    "### Method 2\n",
    "\n",
    "### experiment\n",
    "exper='historical' #'ssp585'\n",
    "##infile=inpath+model+\"/\"+member_id+\"/daily/50000/cmip6_zg_*\"\n",
    "inpath='/work/bm1235/b382006/cmip6/'\n",
    "outpath = \"/scratch/b/b382006/cmip6/\"+exper+\"/\"\n",
    "model=\"MRI-ESM2-0\"\n",
    "member_id=\"r1i1p1f1\"\n",
    "\n",
    "    \n",
    "y0=1969 #2061 #1979, 2025, 2061\n",
    "yn=1979 #2101 #2015, 2050, 2101\n",
    "years=np.arange(y0,yn,1)\n",
    "#print(xr_in)"
   ]
  },
  {
   "cell_type": "code",
   "execution_count": 5,
   "id": "fd3eac15-386a-4601-812b-293aed8310af",
   "metadata": {},
   "outputs": [],
   "source": [
    "###"
   ]
  },
  {
   "cell_type": "code",
   "execution_count": 6,
   "id": "aad8a64d-4b59-4c28-b255-8483f956aac8",
   "metadata": {},
   "outputs": [
    {
     "name": "stdout",
     "output_type": "stream",
     "text": [
      "Processing 1969 /scratch/b/b382006/cmip6/historical/MRI-ESM2-0/r1i1p1f1/block/ABS_500\n"
     ]
    },
    {
     "name": "stderr",
     "output_type": "stream",
     "text": [
      "2025-04-16 22:49:47,807 - root - INFO - Calculated GPH from GP\n",
      "2025-04-16 22:49:47,809 - root - INFO - Set time grid distance 1\n",
      "2025-04-16 22:49:47,810 - root - INFO - Set lon grid distance 1\n",
      "2025-04-16 22:49:47,814 - root - INFO - Set lat grid distance 1.0\n",
      "2025-04-16 22:49:47,814 - root - INFO - Calculate gradients as GeopotentialHeightGradient...\n",
      "2025-04-16 22:49:49,655 - root - INFO - Calculating gradients... DONE\n",
      "2025-04-16 22:49:49,657 - root - INFO - Calculating IB as IB...\n",
      "2025-04-16 22:50:10,362 - root - INFO - Calculating IB... DONE\n",
      "2025-04-16 22:50:10,363 - root - INFO - Calculating extended IB as ExtendedIB...\n",
      "2025-04-16 22:50:11,095 - root - INFO - Calculating extended IB... DONE\n",
      "2025-04-16 22:50:11,097 - root - INFO - Calculating blocking as Blocking...\n",
      "2025-04-16 22:50:11,214 - root - INFO - Calculating time step... 0%\n",
      "2025-04-16 22:50:24,461 - root - INFO - Calculating time step... 10%\n",
      "2025-04-16 22:50:47,957 - root - INFO - Calculating time step... 20%\n",
      "2025-04-16 22:51:17,987 - root - INFO - Calculating time step... 30%\n",
      "2025-04-16 22:51:39,340 - root - INFO - Calculating time step... 40%\n",
      "2025-04-16 22:52:14,846 - root - INFO - Calculating time step... 50%\n",
      "2025-04-16 22:52:51,365 - root - INFO - Calculating time step... 60%\n",
      "2025-04-16 22:53:16,950 - root - INFO - Calculating time step... 70%\n",
      "2025-04-16 22:53:28,424 - root - INFO - Calculating time step... 80%\n",
      "2025-04-16 22:53:44,929 - root - INFO - Calculating time step... 90%\n",
      "2025-04-16 22:53:54,302 - root - INFO - Calculating blocking... DONE\n",
      "2025-04-16 22:53:54,658 - root - INFO - Saved /scratch/b/b382006/cmip6/historical/MRI-ESM2-0/r1i1p1f1/block/ABS_500/block_ABS-Z500_1969.nc\n",
      "2025-04-16 22:53:54,823 - root - INFO - Saved /scratch/b/b382006/cmip6/historical/MRI-ESM2-0/r1i1p1f1/block/ABS_500/ExtendB_1969.nc\n",
      "2025-04-16 22:53:55,002 - root - INFO - Saved /scratch/b/b382006/cmip6/historical/MRI-ESM2-0/r1i1p1f1/block/ABS_500/IB_1969.nc\n"
     ]
    },
    {
     "name": "stdout",
     "output_type": "stream",
     "text": [
      "Processing 1970 /scratch/b/b382006/cmip6/historical/MRI-ESM2-0/r1i1p1f1/block/ABS_500\n"
     ]
    },
    {
     "name": "stderr",
     "output_type": "stream",
     "text": [
      "2025-04-16 22:54:24,486 - root - INFO - Calculated GPH from GP\n",
      "2025-04-16 22:54:24,488 - root - INFO - Set time grid distance 1\n",
      "2025-04-16 22:54:24,488 - root - INFO - Set lon grid distance 1\n",
      "2025-04-16 22:54:24,488 - root - INFO - Set lat grid distance 1.0\n",
      "2025-04-16 22:54:24,489 - root - INFO - Calculate gradients as GeopotentialHeightGradient...\n",
      "2025-04-16 22:54:24,562 - root - INFO - Calculating gradients... DONE\n",
      "2025-04-16 22:54:24,563 - root - INFO - Calculating IB as IB...\n",
      "2025-04-16 22:54:54,469 - root - INFO - Calculating IB... DONE\n",
      "2025-04-16 22:54:54,470 - root - INFO - Calculating extended IB as ExtendedIB...\n",
      "2025-04-16 22:54:55,203 - root - INFO - Calculating extended IB... DONE\n",
      "2025-04-16 22:54:55,204 - root - INFO - Calculating blocking as Blocking...\n",
      "2025-04-16 22:54:55,323 - root - INFO - Calculating time step... 0%\n",
      "2025-04-16 22:55:21,062 - root - INFO - Calculating time step... 10%\n",
      "2025-04-16 22:55:39,494 - root - INFO - Calculating time step... 20%\n",
      "2025-04-16 22:56:06,167 - root - INFO - Calculating time step... 30%\n",
      "2025-04-16 22:56:33,138 - root - INFO - Calculating time step... 40%\n",
      "2025-04-16 22:56:53,203 - root - INFO - Calculating time step... 50%\n",
      "2025-04-16 22:57:14,025 - root - INFO - Calculating time step... 60%\n",
      "2025-04-16 22:57:31,048 - root - INFO - Calculating time step... 70%\n",
      "2025-04-16 22:57:41,334 - root - INFO - Calculating time step... 80%\n",
      "2025-04-16 22:57:54,358 - root - INFO - Calculating time step... 90%\n",
      "2025-04-16 22:58:12,233 - root - INFO - Calculating blocking... DONE\n",
      "2025-04-16 22:58:12,565 - root - INFO - Saved /scratch/b/b382006/cmip6/historical/MRI-ESM2-0/r1i1p1f1/block/ABS_500/block_ABS-Z500_1970.nc\n",
      "2025-04-16 22:58:12,768 - root - INFO - Saved /scratch/b/b382006/cmip6/historical/MRI-ESM2-0/r1i1p1f1/block/ABS_500/ExtendB_1970.nc\n",
      "2025-04-16 22:58:12,947 - root - INFO - Saved /scratch/b/b382006/cmip6/historical/MRI-ESM2-0/r1i1p1f1/block/ABS_500/IB_1970.nc\n"
     ]
    },
    {
     "name": "stdout",
     "output_type": "stream",
     "text": [
      "Processing 1971 /scratch/b/b382006/cmip6/historical/MRI-ESM2-0/r1i1p1f1/block/ABS_500\n"
     ]
    },
    {
     "name": "stderr",
     "output_type": "stream",
     "text": [
      "2025-04-16 22:58:44,042 - root - INFO - Calculated GPH from GP\n",
      "2025-04-16 22:58:44,061 - root - INFO - Set time grid distance 1\n",
      "2025-04-16 22:58:44,062 - root - INFO - Set lon grid distance 1\n",
      "2025-04-16 22:58:44,063 - root - INFO - Set lat grid distance 1.0\n",
      "2025-04-16 22:58:44,063 - root - INFO - Calculate gradients as GeopotentialHeightGradient...\n",
      "2025-04-16 22:58:44,144 - root - INFO - Calculating gradients... DONE\n",
      "2025-04-16 22:58:44,144 - root - INFO - Calculating IB as IB...\n",
      "2025-04-16 22:59:10,254 - root - INFO - Calculating IB... DONE\n",
      "2025-04-16 22:59:10,305 - root - INFO - Calculating extended IB as ExtendedIB...\n",
      "2025-04-16 22:59:11,100 - root - INFO - Calculating extended IB... DONE\n",
      "2025-04-16 22:59:11,101 - root - INFO - Calculating blocking as Blocking...\n",
      "2025-04-16 22:59:11,251 - root - INFO - Calculating time step... 0%\n",
      "2025-04-16 22:59:30,176 - root - INFO - Calculating time step... 10%\n",
      "2025-04-16 22:59:47,843 - root - INFO - Calculating time step... 20%\n",
      "2025-04-16 23:00:23,466 - root - INFO - Calculating time step... 30%\n",
      "2025-04-16 23:00:55,687 - root - INFO - Calculating time step... 40%\n",
      "2025-04-16 23:01:38,859 - root - INFO - Calculating time step... 50%\n",
      "2025-04-16 23:02:09,696 - root - INFO - Calculating time step... 60%\n",
      "2025-04-16 23:02:33,449 - root - INFO - Calculating time step... 70%\n",
      "2025-04-16 23:02:52,112 - root - INFO - Calculating time step... 80%\n",
      "2025-04-16 23:03:12,748 - root - INFO - Calculating time step... 90%\n",
      "2025-04-16 23:03:30,860 - root - INFO - Calculating blocking... DONE\n",
      "2025-04-16 23:03:31,167 - root - INFO - Saved /scratch/b/b382006/cmip6/historical/MRI-ESM2-0/r1i1p1f1/block/ABS_500/block_ABS-Z500_1971.nc\n",
      "2025-04-16 23:03:31,310 - root - INFO - Saved /scratch/b/b382006/cmip6/historical/MRI-ESM2-0/r1i1p1f1/block/ABS_500/ExtendB_1971.nc\n",
      "2025-04-16 23:03:31,445 - root - INFO - Saved /scratch/b/b382006/cmip6/historical/MRI-ESM2-0/r1i1p1f1/block/ABS_500/IB_1971.nc\n"
     ]
    },
    {
     "name": "stdout",
     "output_type": "stream",
     "text": [
      "Processing 1972 /scratch/b/b382006/cmip6/historical/MRI-ESM2-0/r1i1p1f1/block/ABS_500\n"
     ]
    },
    {
     "name": "stderr",
     "output_type": "stream",
     "text": [
      "2025-04-16 23:03:56,169 - root - INFO - Calculated GPH from GP\n",
      "2025-04-16 23:03:56,183 - root - INFO - Set time grid distance 1\n",
      "2025-04-16 23:03:56,183 - root - INFO - Set lon grid distance 1\n",
      "2025-04-16 23:03:56,185 - root - INFO - Set lat grid distance 1.0\n",
      "2025-04-16 23:03:56,186 - root - INFO - Calculate gradients as GeopotentialHeightGradient...\n",
      "2025-04-16 23:03:56,283 - root - INFO - Calculating gradients... DONE\n",
      "2025-04-16 23:03:56,284 - root - INFO - Calculating IB as IB...\n",
      "2025-04-16 23:04:18,442 - root - INFO - Calculating IB... DONE\n",
      "2025-04-16 23:04:18,443 - root - INFO - Calculating extended IB as ExtendedIB...\n",
      "2025-04-16 23:04:19,187 - root - INFO - Calculating extended IB... DONE\n",
      "2025-04-16 23:04:19,188 - root - INFO - Calculating blocking as Blocking...\n",
      "2025-04-16 23:04:19,301 - root - INFO - Calculating time step... 0%\n",
      "2025-04-16 23:04:40,240 - root - INFO - Calculating time step... 10%\n",
      "2025-04-16 23:05:02,808 - root - INFO - Calculating time step... 20%\n",
      "2025-04-16 23:05:19,816 - root - INFO - Calculating time step... 30%\n",
      "2025-04-16 23:05:43,960 - root - INFO - Calculating time step... 40%\n",
      "2025-04-16 23:06:10,040 - root - INFO - Calculating time step... 50%\n",
      "2025-04-16 23:06:29,102 - root - INFO - Calculating time step... 60%\n",
      "2025-04-16 23:06:48,565 - root - INFO - Calculating time step... 70%\n",
      "2025-04-16 23:06:59,560 - root - INFO - Calculating time step... 80%\n",
      "2025-04-16 23:07:20,371 - root - INFO - Calculating time step... 90%\n",
      "2025-04-16 23:07:43,640 - root - INFO - Calculating blocking... DONE\n",
      "2025-04-16 23:07:43,976 - root - INFO - Saved /scratch/b/b382006/cmip6/historical/MRI-ESM2-0/r1i1p1f1/block/ABS_500/block_ABS-Z500_1972.nc\n",
      "2025-04-16 23:07:44,175 - root - INFO - Saved /scratch/b/b382006/cmip6/historical/MRI-ESM2-0/r1i1p1f1/block/ABS_500/ExtendB_1972.nc\n",
      "2025-04-16 23:07:44,380 - root - INFO - Saved /scratch/b/b382006/cmip6/historical/MRI-ESM2-0/r1i1p1f1/block/ABS_500/IB_1972.nc\n"
     ]
    },
    {
     "name": "stdout",
     "output_type": "stream",
     "text": [
      "Processing 1973 /scratch/b/b382006/cmip6/historical/MRI-ESM2-0/r1i1p1f1/block/ABS_500\n"
     ]
    },
    {
     "name": "stderr",
     "output_type": "stream",
     "text": [
      "2025-04-16 23:08:12,933 - root - INFO - Calculated GPH from GP\n",
      "2025-04-16 23:08:12,934 - root - INFO - Set time grid distance 1\n",
      "2025-04-16 23:08:12,935 - root - INFO - Set lon grid distance 1\n",
      "2025-04-16 23:08:12,935 - root - INFO - Set lat grid distance 1.0\n",
      "2025-04-16 23:08:12,936 - root - INFO - Calculate gradients as GeopotentialHeightGradient...\n",
      "2025-04-16 23:08:13,159 - root - INFO - Calculating gradients... DONE\n",
      "2025-04-16 23:08:13,160 - root - INFO - Calculating IB as IB...\n",
      "2025-04-16 23:08:41,537 - root - INFO - Calculating IB... DONE\n",
      "2025-04-16 23:08:41,538 - root - INFO - Calculating extended IB as ExtendedIB...\n",
      "2025-04-16 23:08:42,369 - root - INFO - Calculating extended IB... DONE\n",
      "2025-04-16 23:08:42,370 - root - INFO - Calculating blocking as Blocking...\n",
      "2025-04-16 23:08:42,524 - root - INFO - Calculating time step... 0%\n",
      "2025-04-16 23:09:02,229 - root - INFO - Calculating time step... 10%\n",
      "2025-04-16 23:09:25,502 - root - INFO - Calculating time step... 20%\n",
      "2025-04-16 23:10:00,791 - root - INFO - Calculating time step... 30%\n",
      "2025-04-16 23:10:27,795 - root - INFO - Calculating time step... 40%\n",
      "2025-04-16 23:10:57,229 - root - INFO - Calculating time step... 50%\n",
      "2025-04-16 23:11:19,087 - root - INFO - Calculating time step... 60%\n",
      "2025-04-16 23:11:53,616 - root - INFO - Calculating time step... 70%\n",
      "2025-04-16 23:12:11,486 - root - INFO - Calculating time step... 80%\n",
      "2025-04-16 23:12:30,434 - root - INFO - Calculating time step... 90%\n",
      "2025-04-16 23:12:47,405 - root - INFO - Calculating blocking... DONE\n",
      "2025-04-16 23:12:47,778 - root - INFO - Saved /scratch/b/b382006/cmip6/historical/MRI-ESM2-0/r1i1p1f1/block/ABS_500/block_ABS-Z500_1973.nc\n",
      "2025-04-16 23:12:47,917 - root - INFO - Saved /scratch/b/b382006/cmip6/historical/MRI-ESM2-0/r1i1p1f1/block/ABS_500/ExtendB_1973.nc\n",
      "2025-04-16 23:12:48,068 - root - INFO - Saved /scratch/b/b382006/cmip6/historical/MRI-ESM2-0/r1i1p1f1/block/ABS_500/IB_1973.nc\n"
     ]
    },
    {
     "name": "stdout",
     "output_type": "stream",
     "text": [
      "Processing 1974 /scratch/b/b382006/cmip6/historical/MRI-ESM2-0/r1i1p1f1/block/ABS_500\n"
     ]
    },
    {
     "name": "stderr",
     "output_type": "stream",
     "text": [
      "2025-04-16 23:13:15,266 - root - INFO - Calculated GPH from GP\n",
      "2025-04-16 23:13:15,276 - root - INFO - Set time grid distance 1\n",
      "2025-04-16 23:13:15,277 - root - INFO - Set lon grid distance 1\n",
      "2025-04-16 23:13:15,277 - root - INFO - Set lat grid distance 1.0\n",
      "2025-04-16 23:13:15,278 - root - INFO - Calculate gradients as GeopotentialHeightGradient...\n",
      "2025-04-16 23:13:15,354 - root - INFO - Calculating gradients... DONE\n",
      "2025-04-16 23:13:15,355 - root - INFO - Calculating IB as IB...\n",
      "2025-04-16 23:13:37,940 - root - INFO - Calculating IB... DONE\n",
      "2025-04-16 23:13:37,950 - root - INFO - Calculating extended IB as ExtendedIB...\n",
      "2025-04-16 23:13:38,731 - root - INFO - Calculating extended IB... DONE\n",
      "2025-04-16 23:13:38,731 - root - INFO - Calculating blocking as Blocking...\n",
      "2025-04-16 23:13:38,858 - root - INFO - Calculating time step... 0%\n",
      "2025-04-16 23:14:01,681 - root - INFO - Calculating time step... 10%\n",
      "2025-04-16 23:14:23,757 - root - INFO - Calculating time step... 20%\n",
      "2025-04-16 23:14:50,872 - root - INFO - Calculating time step... 30%\n",
      "2025-04-16 23:15:30,276 - root - INFO - Calculating time step... 40%\n",
      "2025-04-16 23:16:03,655 - root - INFO - Calculating time step... 50%\n",
      "2025-04-16 23:16:24,060 - root - INFO - Calculating time step... 60%\n",
      "2025-04-16 23:16:44,780 - root - INFO - Calculating time step... 70%\n",
      "2025-04-16 23:17:00,792 - root - INFO - Calculating time step... 80%\n",
      "2025-04-16 23:17:23,601 - root - INFO - Calculating time step... 90%\n",
      "2025-04-16 23:17:49,694 - root - INFO - Calculating blocking... DONE\n",
      "2025-04-16 23:17:49,966 - root - INFO - Saved /scratch/b/b382006/cmip6/historical/MRI-ESM2-0/r1i1p1f1/block/ABS_500/block_ABS-Z500_1974.nc\n",
      "2025-04-16 23:17:50,146 - root - INFO - Saved /scratch/b/b382006/cmip6/historical/MRI-ESM2-0/r1i1p1f1/block/ABS_500/ExtendB_1974.nc\n",
      "2025-04-16 23:17:50,286 - root - INFO - Saved /scratch/b/b382006/cmip6/historical/MRI-ESM2-0/r1i1p1f1/block/ABS_500/IB_1974.nc\n"
     ]
    },
    {
     "name": "stdout",
     "output_type": "stream",
     "text": [
      "Processing 1975 /scratch/b/b382006/cmip6/historical/MRI-ESM2-0/r1i1p1f1/block/ABS_500\n"
     ]
    },
    {
     "name": "stderr",
     "output_type": "stream",
     "text": [
      "2025-04-16 23:18:19,527 - root - INFO - Calculated GPH from GP\n",
      "2025-04-16 23:18:19,558 - root - INFO - Set time grid distance 1\n",
      "2025-04-16 23:18:19,559 - root - INFO - Set lon grid distance 1\n",
      "2025-04-16 23:18:19,564 - root - INFO - Set lat grid distance 1.0\n",
      "2025-04-16 23:18:19,564 - root - INFO - Calculate gradients as GeopotentialHeightGradient...\n",
      "2025-04-16 23:18:19,696 - root - INFO - Calculating gradients... DONE\n",
      "2025-04-16 23:18:19,697 - root - INFO - Calculating IB as IB...\n",
      "2025-04-16 23:18:43,064 - root - INFO - Calculating IB... DONE\n",
      "2025-04-16 23:18:43,066 - root - INFO - Calculating extended IB as ExtendedIB...\n",
      "2025-04-16 23:18:43,871 - root - INFO - Calculating extended IB... DONE\n",
      "2025-04-16 23:18:43,872 - root - INFO - Calculating blocking as Blocking...\n",
      "2025-04-16 23:18:44,025 - root - INFO - Calculating time step... 0%\n",
      "2025-04-16 23:18:57,974 - root - INFO - Calculating time step... 10%\n",
      "2025-04-16 23:19:17,678 - root - INFO - Calculating time step... 20%\n",
      "2025-04-16 23:19:44,567 - root - INFO - Calculating time step... 30%\n",
      "2025-04-16 23:20:05,021 - root - INFO - Calculating time step... 40%\n",
      "2025-04-16 23:20:39,056 - root - INFO - Calculating time step... 50%\n",
      "2025-04-16 23:21:06,129 - root - INFO - Calculating time step... 60%\n",
      "2025-04-16 23:21:35,527 - root - INFO - Calculating time step... 70%\n",
      "2025-04-16 23:21:48,736 - root - INFO - Calculating time step... 80%\n",
      "2025-04-16 23:22:11,012 - root - INFO - Calculating time step... 90%\n",
      "2025-04-16 23:22:25,254 - root - INFO - Calculating blocking... DONE\n",
      "2025-04-16 23:22:25,579 - root - INFO - Saved /scratch/b/b382006/cmip6/historical/MRI-ESM2-0/r1i1p1f1/block/ABS_500/block_ABS-Z500_1975.nc\n",
      "2025-04-16 23:22:25,991 - root - INFO - Saved /scratch/b/b382006/cmip6/historical/MRI-ESM2-0/r1i1p1f1/block/ABS_500/ExtendB_1975.nc\n",
      "2025-04-16 23:22:26,132 - root - INFO - Saved /scratch/b/b382006/cmip6/historical/MRI-ESM2-0/r1i1p1f1/block/ABS_500/IB_1975.nc\n"
     ]
    },
    {
     "name": "stdout",
     "output_type": "stream",
     "text": [
      "Processing 1976 /scratch/b/b382006/cmip6/historical/MRI-ESM2-0/r1i1p1f1/block/ABS_500\n"
     ]
    },
    {
     "name": "stderr",
     "output_type": "stream",
     "text": [
      "2025-04-16 23:22:51,953 - root - INFO - Calculated GPH from GP\n",
      "2025-04-16 23:22:51,983 - root - INFO - Set time grid distance 1\n",
      "2025-04-16 23:22:51,983 - root - INFO - Set lon grid distance 1\n",
      "2025-04-16 23:22:51,996 - root - INFO - Set lat grid distance 1.0\n",
      "2025-04-16 23:22:51,997 - root - INFO - Calculate gradients as GeopotentialHeightGradient...\n",
      "2025-04-16 23:22:52,281 - root - INFO - Calculating gradients... DONE\n",
      "2025-04-16 23:22:52,282 - root - INFO - Calculating IB as IB...\n",
      "2025-04-16 23:23:17,413 - root - INFO - Calculating IB... DONE\n",
      "2025-04-16 23:23:17,414 - root - INFO - Calculating extended IB as ExtendedIB...\n",
      "2025-04-16 23:23:18,196 - root - INFO - Calculating extended IB... DONE\n",
      "2025-04-16 23:23:18,197 - root - INFO - Calculating blocking as Blocking...\n",
      "2025-04-16 23:23:18,326 - root - INFO - Calculating time step... 0%\n",
      "2025-04-16 23:23:43,862 - root - INFO - Calculating time step... 10%\n",
      "2025-04-16 23:24:03,127 - root - INFO - Calculating time step... 20%\n",
      "2025-04-16 23:24:24,870 - root - INFO - Calculating time step... 30%\n",
      "2025-04-16 23:24:54,513 - root - INFO - Calculating time step... 40%\n",
      "2025-04-16 23:25:27,329 - root - INFO - Calculating time step... 50%\n",
      "2025-04-16 23:25:57,127 - root - INFO - Calculating time step... 60%\n",
      "2025-04-16 23:26:27,855 - root - INFO - Calculating time step... 70%\n",
      "2025-04-16 23:26:47,473 - root - INFO - Calculating time step... 80%\n",
      "2025-04-16 23:27:03,619 - root - INFO - Calculating time step... 90%\n",
      "2025-04-16 23:27:17,170 - root - INFO - Calculating blocking... DONE\n",
      "2025-04-16 23:27:17,482 - root - INFO - Saved /scratch/b/b382006/cmip6/historical/MRI-ESM2-0/r1i1p1f1/block/ABS_500/block_ABS-Z500_1976.nc\n",
      "2025-04-16 23:27:17,626 - root - INFO - Saved /scratch/b/b382006/cmip6/historical/MRI-ESM2-0/r1i1p1f1/block/ABS_500/ExtendB_1976.nc\n",
      "2025-04-16 23:27:17,786 - root - INFO - Saved /scratch/b/b382006/cmip6/historical/MRI-ESM2-0/r1i1p1f1/block/ABS_500/IB_1976.nc\n"
     ]
    },
    {
     "name": "stdout",
     "output_type": "stream",
     "text": [
      "Processing 1977 /scratch/b/b382006/cmip6/historical/MRI-ESM2-0/r1i1p1f1/block/ABS_500\n"
     ]
    },
    {
     "name": "stderr",
     "output_type": "stream",
     "text": [
      "2025-04-16 23:27:42,552 - root - INFO - Calculated GPH from GP\n",
      "2025-04-16 23:27:42,562 - root - INFO - Set time grid distance 1\n",
      "2025-04-16 23:27:42,562 - root - INFO - Set lon grid distance 1\n",
      "2025-04-16 23:27:42,567 - root - INFO - Set lat grid distance 1.0\n",
      "2025-04-16 23:27:42,568 - root - INFO - Calculate gradients as GeopotentialHeightGradient...\n",
      "2025-04-16 23:27:42,684 - root - INFO - Calculating gradients... DONE\n",
      "2025-04-16 23:27:42,685 - root - INFO - Calculating IB as IB...\n",
      "2025-04-16 23:28:00,969 - root - INFO - Calculating IB... DONE\n",
      "2025-04-16 23:28:00,970 - root - INFO - Calculating extended IB as ExtendedIB...\n",
      "2025-04-16 23:28:01,701 - root - INFO - Calculating extended IB... DONE\n",
      "2025-04-16 23:28:01,702 - root - INFO - Calculating blocking as Blocking...\n",
      "2025-04-16 23:28:01,827 - root - INFO - Calculating time step... 0%\n",
      "2025-04-16 23:28:17,060 - root - INFO - Calculating time step... 10%\n",
      "2025-04-16 23:28:24,222 - root - INFO - Calculating time step... 20%\n",
      "2025-04-16 23:28:41,734 - root - INFO - Calculating time step... 30%\n",
      "2025-04-16 23:29:00,229 - root - INFO - Calculating time step... 40%\n",
      "2025-04-16 23:29:23,829 - root - INFO - Calculating time step... 50%\n",
      "2025-04-16 23:29:45,879 - root - INFO - Calculating time step... 60%\n",
      "2025-04-16 23:29:58,182 - root - INFO - Calculating time step... 70%\n",
      "2025-04-16 23:30:19,726 - root - INFO - Calculating time step... 80%\n",
      "2025-04-16 23:30:37,123 - root - INFO - Calculating time step... 90%\n",
      "2025-04-16 23:31:00,009 - root - INFO - Calculating blocking... DONE\n",
      "2025-04-16 23:31:00,283 - root - INFO - Saved /scratch/b/b382006/cmip6/historical/MRI-ESM2-0/r1i1p1f1/block/ABS_500/block_ABS-Z500_1977.nc\n",
      "2025-04-16 23:31:00,475 - root - INFO - Saved /scratch/b/b382006/cmip6/historical/MRI-ESM2-0/r1i1p1f1/block/ABS_500/ExtendB_1977.nc\n",
      "2025-04-16 23:31:00,639 - root - INFO - Saved /scratch/b/b382006/cmip6/historical/MRI-ESM2-0/r1i1p1f1/block/ABS_500/IB_1977.nc\n"
     ]
    },
    {
     "name": "stdout",
     "output_type": "stream",
     "text": [
      "Processing 1978 /scratch/b/b382006/cmip6/historical/MRI-ESM2-0/r1i1p1f1/block/ABS_500\n"
     ]
    },
    {
     "name": "stderr",
     "output_type": "stream",
     "text": [
      "2025-04-16 23:31:26,075 - root - INFO - Calculated GPH from GP\n",
      "2025-04-16 23:31:26,076 - root - INFO - Set time grid distance 1\n",
      "2025-04-16 23:31:26,077 - root - INFO - Set lon grid distance 1\n",
      "2025-04-16 23:31:26,077 - root - INFO - Set lat grid distance 1.0\n",
      "2025-04-16 23:31:26,078 - root - INFO - Calculate gradients as GeopotentialHeightGradient...\n",
      "2025-04-16 23:31:26,160 - root - INFO - Calculating gradients... DONE\n",
      "2025-04-16 23:31:26,161 - root - INFO - Calculating IB as IB...\n",
      "2025-04-16 23:31:45,493 - root - INFO - Calculating IB... DONE\n",
      "2025-04-16 23:31:45,494 - root - INFO - Calculating extended IB as ExtendedIB...\n",
      "2025-04-16 23:31:46,304 - root - INFO - Calculating extended IB... DONE\n",
      "2025-04-16 23:31:46,305 - root - INFO - Calculating blocking as Blocking...\n",
      "2025-04-16 23:31:46,458 - root - INFO - Calculating time step... 0%\n",
      "2025-04-16 23:32:03,890 - root - INFO - Calculating time step... 10%\n",
      "2025-04-16 23:32:31,897 - root - INFO - Calculating time step... 20%\n",
      "2025-04-16 23:33:02,975 - root - INFO - Calculating time step... 30%\n",
      "2025-04-16 23:33:21,734 - root - INFO - Calculating time step... 40%\n",
      "2025-04-16 23:33:41,062 - root - INFO - Calculating time step... 50%\n",
      "2025-04-16 23:34:08,328 - root - INFO - Calculating time step... 60%\n",
      "2025-04-16 23:34:30,879 - root - INFO - Calculating time step... 70%\n",
      "2025-04-16 23:34:49,187 - root - INFO - Calculating time step... 80%\n",
      "2025-04-16 23:35:05,498 - root - INFO - Calculating time step... 90%\n",
      "2025-04-16 23:35:29,087 - root - INFO - Calculating blocking... DONE\n",
      "2025-04-16 23:35:29,345 - root - INFO - Saved /scratch/b/b382006/cmip6/historical/MRI-ESM2-0/r1i1p1f1/block/ABS_500/block_ABS-Z500_1978.nc\n",
      "2025-04-16 23:35:29,485 - root - INFO - Saved /scratch/b/b382006/cmip6/historical/MRI-ESM2-0/r1i1p1f1/block/ABS_500/ExtendB_1978.nc\n",
      "2025-04-16 23:35:29,628 - root - INFO - Saved /scratch/b/b382006/cmip6/historical/MRI-ESM2-0/r1i1p1f1/block/ABS_500/IB_1978.nc\n"
     ]
    }
   ],
   "source": [
    "### versus ERA5### compute blocking yearly to save memory:\n",
    "from pathlib import Path\n",
    "\n",
    "dir_res = Path(outpath) / model / member_id / \"block\" / \"ABS_500\"\n",
    "dir_res.mkdir(parents=True, exist_ok=True)\n",
    "\n",
    "for year in years:\n",
    "    \n",
    "    print(f\"Processing {year} {dir_res}\")\n",
    "    \n",
    "    out_main = dir_res / f\"block_ABS-Z500_{year}.nc\"\n",
    "    out_ext = dir_res / f\"ExtendB_{year}.nc\"\n",
    "    out_ib = dir_res / f\"IB_{year}.nc\"\n",
    "\n",
    "    if out_main.exists() and out_ext.exists() and out_ib.exists():\n",
    "        print(f\"Skipping {year}, files exist.\")\n",
    "        continue\n",
    "\n",
    "    # Load only this year's files\n",
    "    xr_in = xr.open_mfdataset(\n",
    "        f\"{inpath}/{model}/{member_id}/daily/{year}/Z*\",\n",
    "        combine='by_coords'\n",
    "    ).sel(plev=50000., drop=True)\n",
    "    \n",
    "\n",
    "    ### IFS Compute yearly\n",
    "#    data=daily_z.sel(time=daily_z.time.dt.year.isin([year]))\n",
    "    ### ICON Compute yearly\n",
    "#    data=xr_in.sel(time=xr_in.time.dt.year.isin([year]))\n",
    "#    data = xr_in.sel(time=str(year))\n",
    "\n",
    "\n",
    "###=== intitate\n",
    "    blk = Blocking()\n",
    "\n",
    "    blk.import_xarray(xr_in)\n",
    "\n",
    "    ### not for ICON\n",
    "    blk.calculate_gph_from_gp(gp_name='Z') # calculate geopotential height\n",
    "\n",
    "    blk.set_up(time_name='time',longitude_name='lon', latitude_name='lat')\n",
    "\n",
    "    blk.calculate_gradients(delta_degree=15)\n",
    "\n",
    "    blk.calculate_ib(\n",
    "    gradient_equator_below=0,\n",
    "    gradient_pole_below=-10,\n",
    "    gradient_equator2_above=5)\n",
    "\n",
    "#\n",
    "    blk.calculate_eib(min_extent_degree=15)\n",
    "\n",
    "#\n",
    "    blk.calculate_blocking(\n",
    "    stationary_pm_days=2,\n",
    "    longitude_pm_degree=8,\n",
    "    latitude_pm_degree=2)\n",
    "\n",
    "# save to disk\n",
    "    blk.save(out_main, 'Blocking')\n",
    "    blk.save(out_ext, 'ExtendedIB')\n",
    "    blk.save(out_ib, 'IB')\n",
    "\n",
    "    xr_in.close()\n",
    "    \n"
   ]
  },
  {
   "cell_type": "code",
   "execution_count": 7,
   "id": "59348a6d-0ec6-45e7-bd34-8682c44982d0",
   "metadata": {},
   "outputs": [],
   "source": [
    "###"
   ]
  },
  {
   "cell_type": "code",
   "execution_count": null,
   "id": "48331ee8-79f5-498a-8a17-570fe946a9c9",
   "metadata": {},
   "outputs": [],
   "source": []
  },
  {
   "cell_type": "code",
   "execution_count": null,
   "id": "c21d826b-68c3-4936-8450-a43b2478f97f",
   "metadata": {},
   "outputs": [],
   "source": []
  }
 ],
 "metadata": {
  "kernelspec": {
   "display_name": "python_3.12-flo",
   "language": "python",
   "name": "python_3.12-flo"
  },
  "language_info": {
   "codemirror_mode": {
    "name": "ipython",
    "version": 3
   },
   "file_extension": ".py",
   "mimetype": "text/x-python",
   "name": "python",
   "nbconvert_exporter": "python",
   "pygments_lexer": "ipython3",
   "version": "3.12.9"
  }
 },
 "nbformat": 4,
 "nbformat_minor": 5
}
